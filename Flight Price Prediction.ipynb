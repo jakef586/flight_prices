{
 "cells": [
  {
   "cell_type": "markdown",
   "id": "4a9439fd",
   "metadata": {},
   "source": [
    "# Predicting Flight Prices\n",
    "\n",
    "#### Jake Fox\n",
    "\n",
    "#### 4/20/2023"
   ]
  },
  {
   "cell_type": "markdown",
   "id": "14a780bf",
   "metadata": {},
   "source": [
    "This dataset was downloaded from Kaggle. The user from Kaggle received this data through a website called “Ease My Trip” that helps customers plan their vacations and getaways."
   ]
  },
  {
   "cell_type": "markdown",
   "id": "89f05b7d",
   "metadata": {},
   "source": [
    "In this project, I will be creating a linear regression model to predict flight price based off flight data from a market of airlines based in India."
   ]
  },
  {
   "cell_type": "code",
   "execution_count": 1,
   "id": "42f4dda3",
   "metadata": {},
   "outputs": [],
   "source": [
    "import pandas as pd\n",
    "import numpy as np\n",
    "import seaborn as sns\n",
    "import matplotlib as mpl\n",
    "import matplotlib.pyplot as plt\n",
    "%matplotlib inline"
   ]
  },
  {
   "cell_type": "markdown",
   "id": "ccdd5be1",
   "metadata": {},
   "source": [
    "## I'm going to read in two datasets that contain flight information for business class and economy class tickets:"
   ]
  },
  {
   "cell_type": "code",
   "execution_count": 2,
   "id": "c7fc296d",
   "metadata": {},
   "outputs": [],
   "source": [
    "business = pd.read_csv(r\"D:\\business.csv\")\n",
    "economy = pd.read_csv(r\"D:\\economy.csv\")"
   ]
  },
  {
   "cell_type": "code",
   "execution_count": 3,
   "id": "bca82009",
   "metadata": {
    "scrolled": true
   },
   "outputs": [
    {
     "data": {
      "text/html": [
       "<div>\n",
       "<style scoped>\n",
       "    .dataframe tbody tr th:only-of-type {\n",
       "        vertical-align: middle;\n",
       "    }\n",
       "\n",
       "    .dataframe tbody tr th {\n",
       "        vertical-align: top;\n",
       "    }\n",
       "\n",
       "    .dataframe thead th {\n",
       "        text-align: right;\n",
       "    }\n",
       "</style>\n",
       "<table border=\"1\" class=\"dataframe\">\n",
       "  <thead>\n",
       "    <tr style=\"text-align: right;\">\n",
       "      <th></th>\n",
       "      <th>date</th>\n",
       "      <th>airline</th>\n",
       "      <th>ch_code</th>\n",
       "      <th>num_code</th>\n",
       "      <th>dep_time</th>\n",
       "      <th>from</th>\n",
       "      <th>time_taken</th>\n",
       "      <th>stop</th>\n",
       "      <th>arr_time</th>\n",
       "      <th>to</th>\n",
       "      <th>price</th>\n",
       "    </tr>\n",
       "  </thead>\n",
       "  <tbody>\n",
       "    <tr>\n",
       "      <th>0</th>\n",
       "      <td>11-02-2022</td>\n",
       "      <td>Air India</td>\n",
       "      <td>AI</td>\n",
       "      <td>868</td>\n",
       "      <td>18:00</td>\n",
       "      <td>Delhi</td>\n",
       "      <td>02h 00m</td>\n",
       "      <td>non-stop</td>\n",
       "      <td>20:00</td>\n",
       "      <td>Mumbai</td>\n",
       "      <td>25,612</td>\n",
       "    </tr>\n",
       "    <tr>\n",
       "      <th>1</th>\n",
       "      <td>11-02-2022</td>\n",
       "      <td>Air India</td>\n",
       "      <td>AI</td>\n",
       "      <td>624</td>\n",
       "      <td>19:00</td>\n",
       "      <td>Delhi</td>\n",
       "      <td>02h 15m</td>\n",
       "      <td>non-stop</td>\n",
       "      <td>21:15</td>\n",
       "      <td>Mumbai</td>\n",
       "      <td>25,612</td>\n",
       "    </tr>\n",
       "    <tr>\n",
       "      <th>2</th>\n",
       "      <td>11-02-2022</td>\n",
       "      <td>Air India</td>\n",
       "      <td>AI</td>\n",
       "      <td>531</td>\n",
       "      <td>20:00</td>\n",
       "      <td>Delhi</td>\n",
       "      <td>24h 45m</td>\n",
       "      <td>1-stop\\n\\t\\t\\t\\t\\t\\t\\t\\t\\t\\t\\t\\t\\n\\t\\t\\t\\t\\t\\t...</td>\n",
       "      <td>20:45</td>\n",
       "      <td>Mumbai</td>\n",
       "      <td>42,220</td>\n",
       "    </tr>\n",
       "    <tr>\n",
       "      <th>3</th>\n",
       "      <td>11-02-2022</td>\n",
       "      <td>Air India</td>\n",
       "      <td>AI</td>\n",
       "      <td>839</td>\n",
       "      <td>21:25</td>\n",
       "      <td>Delhi</td>\n",
       "      <td>26h 30m</td>\n",
       "      <td>1-stop\\n\\t\\t\\t\\t\\t\\t\\t\\t\\t\\t\\t\\t\\n\\t\\t\\t\\t\\t\\t...</td>\n",
       "      <td>23:55</td>\n",
       "      <td>Mumbai</td>\n",
       "      <td>44,450</td>\n",
       "    </tr>\n",
       "    <tr>\n",
       "      <th>4</th>\n",
       "      <td>11-02-2022</td>\n",
       "      <td>Air India</td>\n",
       "      <td>AI</td>\n",
       "      <td>544</td>\n",
       "      <td>17:15</td>\n",
       "      <td>Delhi</td>\n",
       "      <td>06h 40m</td>\n",
       "      <td>1-stop\\n\\t\\t\\t\\t\\t\\t\\t\\t\\t\\t\\t\\t\\n\\t\\t\\t\\t\\t\\t...</td>\n",
       "      <td>23:55</td>\n",
       "      <td>Mumbai</td>\n",
       "      <td>46,690</td>\n",
       "    </tr>\n",
       "  </tbody>\n",
       "</table>\n",
       "</div>"
      ],
      "text/plain": [
       "         date    airline ch_code  num_code dep_time   from time_taken  \\\n",
       "0  11-02-2022  Air India      AI       868    18:00  Delhi    02h 00m   \n",
       "1  11-02-2022  Air India      AI       624    19:00  Delhi    02h 15m   \n",
       "2  11-02-2022  Air India      AI       531    20:00  Delhi    24h 45m   \n",
       "3  11-02-2022  Air India      AI       839    21:25  Delhi    26h 30m   \n",
       "4  11-02-2022  Air India      AI       544    17:15  Delhi    06h 40m   \n",
       "\n",
       "                                                stop arr_time      to   price  \n",
       "0                                          non-stop     20:00  Mumbai  25,612  \n",
       "1                                          non-stop     21:15  Mumbai  25,612  \n",
       "2  1-stop\\n\\t\\t\\t\\t\\t\\t\\t\\t\\t\\t\\t\\t\\n\\t\\t\\t\\t\\t\\t...    20:45  Mumbai  42,220  \n",
       "3  1-stop\\n\\t\\t\\t\\t\\t\\t\\t\\t\\t\\t\\t\\t\\n\\t\\t\\t\\t\\t\\t...    23:55  Mumbai  44,450  \n",
       "4  1-stop\\n\\t\\t\\t\\t\\t\\t\\t\\t\\t\\t\\t\\t\\n\\t\\t\\t\\t\\t\\t...    23:55  Mumbai  46,690  "
      ]
     },
     "execution_count": 3,
     "metadata": {},
     "output_type": "execute_result"
    }
   ],
   "source": [
    "business.head()"
   ]
  },
  {
   "cell_type": "code",
   "execution_count": 4,
   "id": "ee6f1e03",
   "metadata": {},
   "outputs": [
    {
     "data": {
      "text/html": [
       "<div>\n",
       "<style scoped>\n",
       "    .dataframe tbody tr th:only-of-type {\n",
       "        vertical-align: middle;\n",
       "    }\n",
       "\n",
       "    .dataframe tbody tr th {\n",
       "        vertical-align: top;\n",
       "    }\n",
       "\n",
       "    .dataframe thead th {\n",
       "        text-align: right;\n",
       "    }\n",
       "</style>\n",
       "<table border=\"1\" class=\"dataframe\">\n",
       "  <thead>\n",
       "    <tr style=\"text-align: right;\">\n",
       "      <th></th>\n",
       "      <th>date</th>\n",
       "      <th>airline</th>\n",
       "      <th>ch_code</th>\n",
       "      <th>num_code</th>\n",
       "      <th>dep_time</th>\n",
       "      <th>from</th>\n",
       "      <th>time_taken</th>\n",
       "      <th>stop</th>\n",
       "      <th>arr_time</th>\n",
       "      <th>to</th>\n",
       "      <th>price</th>\n",
       "    </tr>\n",
       "  </thead>\n",
       "  <tbody>\n",
       "    <tr>\n",
       "      <th>0</th>\n",
       "      <td>11-02-2022</td>\n",
       "      <td>SpiceJet</td>\n",
       "      <td>SG</td>\n",
       "      <td>8709</td>\n",
       "      <td>18:55</td>\n",
       "      <td>Delhi</td>\n",
       "      <td>02h 10m</td>\n",
       "      <td>non-stop</td>\n",
       "      <td>21:05</td>\n",
       "      <td>Mumbai</td>\n",
       "      <td>5,953</td>\n",
       "    </tr>\n",
       "    <tr>\n",
       "      <th>1</th>\n",
       "      <td>11-02-2022</td>\n",
       "      <td>SpiceJet</td>\n",
       "      <td>SG</td>\n",
       "      <td>8157</td>\n",
       "      <td>06:20</td>\n",
       "      <td>Delhi</td>\n",
       "      <td>02h 20m</td>\n",
       "      <td>non-stop</td>\n",
       "      <td>08:40</td>\n",
       "      <td>Mumbai</td>\n",
       "      <td>5,953</td>\n",
       "    </tr>\n",
       "    <tr>\n",
       "      <th>2</th>\n",
       "      <td>11-02-2022</td>\n",
       "      <td>AirAsia</td>\n",
       "      <td>I5</td>\n",
       "      <td>764</td>\n",
       "      <td>04:25</td>\n",
       "      <td>Delhi</td>\n",
       "      <td>02h 10m</td>\n",
       "      <td>non-stop</td>\n",
       "      <td>06:35</td>\n",
       "      <td>Mumbai</td>\n",
       "      <td>5,956</td>\n",
       "    </tr>\n",
       "    <tr>\n",
       "      <th>3</th>\n",
       "      <td>11-02-2022</td>\n",
       "      <td>Vistara</td>\n",
       "      <td>UK</td>\n",
       "      <td>995</td>\n",
       "      <td>10:20</td>\n",
       "      <td>Delhi</td>\n",
       "      <td>02h 15m</td>\n",
       "      <td>non-stop</td>\n",
       "      <td>12:35</td>\n",
       "      <td>Mumbai</td>\n",
       "      <td>5,955</td>\n",
       "    </tr>\n",
       "    <tr>\n",
       "      <th>4</th>\n",
       "      <td>11-02-2022</td>\n",
       "      <td>Vistara</td>\n",
       "      <td>UK</td>\n",
       "      <td>963</td>\n",
       "      <td>08:50</td>\n",
       "      <td>Delhi</td>\n",
       "      <td>02h 20m</td>\n",
       "      <td>non-stop</td>\n",
       "      <td>11:10</td>\n",
       "      <td>Mumbai</td>\n",
       "      <td>5,955</td>\n",
       "    </tr>\n",
       "  </tbody>\n",
       "</table>\n",
       "</div>"
      ],
      "text/plain": [
       "         date   airline ch_code  num_code dep_time   from time_taken  \\\n",
       "0  11-02-2022  SpiceJet      SG      8709    18:55  Delhi    02h 10m   \n",
       "1  11-02-2022  SpiceJet      SG      8157    06:20  Delhi    02h 20m   \n",
       "2  11-02-2022   AirAsia      I5       764    04:25  Delhi    02h 10m   \n",
       "3  11-02-2022   Vistara      UK       995    10:20  Delhi    02h 15m   \n",
       "4  11-02-2022   Vistara      UK       963    08:50  Delhi    02h 20m   \n",
       "\n",
       "        stop arr_time      to  price  \n",
       "0  non-stop     21:05  Mumbai  5,953  \n",
       "1  non-stop     08:40  Mumbai  5,953  \n",
       "2  non-stop     06:35  Mumbai  5,956  \n",
       "3  non-stop     12:35  Mumbai  5,955  \n",
       "4  non-stop     11:10  Mumbai  5,955  "
      ]
     },
     "execution_count": 4,
     "metadata": {},
     "output_type": "execute_result"
    }
   ],
   "source": [
    "economy.head()"
   ]
  },
  {
   "cell_type": "markdown",
   "id": "18cf1542",
   "metadata": {},
   "source": [
    "## First thing I noticed was the values in column \"stop\". Let's fix this:"
   ]
  },
  {
   "cell_type": "code",
   "execution_count": 5,
   "id": "7960bf7c",
   "metadata": {},
   "outputs": [
    {
     "data": {
      "text/plain": [
       "1-stop\\n\\t\\t\\t\\t\\t\\t\\t\\t\\t\\t\\t\\t\\n\\t\\t\\t\\t\\t\\t\\t\\t\\t\\t\\t\\t                   81489\n",
       "non-stop                                                                      8102\n",
       "2+-stop                                                                       1083\n",
       "1-stop\\n\\t\\t\\t\\t\\t\\t\\t\\t\\t\\t\\t\\tVia IDR\\n\\t\\t\\t\\t\\t\\t\\t\\t\\t\\t\\t\\t              810\n",
       "1-stop\\n\\t\\t\\t\\t\\t\\t\\t\\t\\t\\t\\t\\tVia IXU\\n\\t\\t\\t\\t\\t\\t\\t\\t\\t\\t\\t\\t              776\n",
       "1-stop\\n\\t\\t\\t\\t\\t\\t\\t\\t\\t\\t\\t\\tVia PAT\\n\\t\\t\\t\\t\\t\\t\\t\\t\\t\\t\\t\\t              257\n",
       "1-stop\\n\\t\\t\\t\\t\\t\\t\\t\\t\\t\\t\\t\\tVia Patna\\n\\t\\t\\t\\t\\t\\t\\t\\t\\t\\t\\t\\t            242\n",
       "1-stop\\n\\t\\t\\t\\t\\t\\t\\t\\t\\t\\t\\t\\tVia BBI\\n\\t\\t\\t\\t\\t\\t\\t\\t\\t\\t\\t\\t              152\n",
       "1-stop\\n\\t\\t\\t\\t\\t\\t\\t\\t\\t\\t\\t\\tVia STV\\n\\t\\t\\t\\t\\t\\t\\t\\t\\t\\t\\t\\t               93\n",
       "1-stop\\n\\t\\t\\t\\t\\t\\t\\t\\t\\t\\t\\t\\tVia IXE\\n\\t\\t\\t\\t\\t\\t\\t\\t\\t\\t\\t\\t               86\n",
       "1-stop\\n\\t\\t\\t\\t\\t\\t\\t\\t\\t\\t\\t\\tVia Bhubaneswar\\n\\t\\t\\t\\t\\t\\t\\t\\t\\t\\t\\t\\t       75\n",
       "1-stop\\n\\t\\t\\t\\t\\t\\t\\t\\t\\t\\t\\t\\tVia Hyderabad\\n\\t\\t\\t\\t\\t\\t\\t\\t\\t\\t\\t\\t         71\n",
       "1-stop\\n\\t\\t\\t\\t\\t\\t\\t\\t\\t\\t\\t\\tVia Delhi\\n\\t\\t\\t\\t\\t\\t\\t\\t\\t\\t\\t\\t             59\n",
       "1-stop\\n\\t\\t\\t\\t\\t\\t\\t\\t\\t\\t\\t\\tVia Raipur\\n\\t\\t\\t\\t\\t\\t\\t\\t\\t\\t\\t\\t            43\n",
       "1-stop\\n\\t\\t\\t\\t\\t\\t\\t\\t\\t\\t\\t\\tVia Chennai\\n\\t\\t\\t\\t\\t\\t\\t\\t\\t\\t\\t\\t           42\n",
       "1-stop\\n\\t\\t\\t\\t\\t\\t\\t\\t\\t\\t\\t\\tVia Guwahati\\n\\t\\t\\t\\t\\t\\t\\t\\t\\t\\t\\t\\t          29\n",
       "1-stop\\n\\t\\t\\t\\t\\t\\t\\t\\t\\t\\t\\t\\tVia VTZ\\n\\t\\t\\t\\t\\t\\t\\t\\t\\t\\t\\t\\t               17\n",
       "1-stop\\n\\t\\t\\t\\t\\t\\t\\t\\t\\t\\t\\t\\tVia NDC\\n\\t\\t\\t\\t\\t\\t\\t\\t\\t\\t\\t\\t               14\n",
       "1-stop\\n\\t\\t\\t\\t\\t\\t\\t\\t\\t\\t\\t\\tVia Kolkata\\n\\t\\t\\t\\t\\t\\t\\t\\t\\t\\t\\t\\t           14\n",
       "1-stop\\n\\t\\t\\t\\t\\t\\t\\t\\t\\t\\t\\t\\tVia RPR\\n\\t\\t\\t\\t\\t\\t\\t\\t\\t\\t\\t\\t               13\n",
       "1-stop\\n\\t\\t\\t\\t\\t\\t\\t\\t\\t\\t\\t\\tVia Lucknow\\n\\t\\t\\t\\t\\t\\t\\t\\t\\t\\t\\t\\t           10\n",
       "1-stop\\n\\t\\t\\t\\t\\t\\t\\t\\t\\t\\t\\t\\tVia GAU\\n\\t\\t\\t\\t\\t\\t\\t\\t\\t\\t\\t\\t                3\n",
       "1-stop\\n\\t\\t\\t\\t\\t\\t\\t\\t\\t\\t\\t\\tVia GAY\\n\\t\\t\\t\\t\\t\\t\\t\\t\\t\\t\\t\\t                3\n",
       "1-stop\\n\\t\\t\\t\\t\\t\\t\\t\\t\\t\\t\\t\\tVia Surat\\n\\t\\t\\t\\t\\t\\t\\t\\t\\t\\t\\t\\t              3\n",
       "1-stop\\n\\t\\t\\t\\t\\t\\t\\t\\t\\t\\t\\t\\tVia HYD\\n\\t\\t\\t\\t\\t\\t\\t\\t\\t\\t\\t\\t                1\n",
       "Name: stop, dtype: int64"
      ]
     },
     "execution_count": 5,
     "metadata": {},
     "output_type": "execute_result"
    }
   ],
   "source": [
    "business['stop'].value_counts()"
   ]
  },
  {
   "cell_type": "code",
   "execution_count": 6,
   "id": "a5ce3398",
   "metadata": {},
   "outputs": [
    {
     "data": {
      "text/plain": [
       "1-stop\\n\\t    84302\n",
       "non-stop       8102\n",
       "2+-stop        1083\n",
       "Name: stop, dtype: int64"
      ]
     },
     "execution_count": 6,
     "metadata": {},
     "output_type": "execute_result"
    }
   ],
   "source": [
    "business['stop'] = business['stop'].str.slice(0, 8)\n",
    "\n",
    "business['stop'].value_counts()"
   ]
  },
  {
   "cell_type": "code",
   "execution_count": 7,
   "id": "55c3a395",
   "metadata": {},
   "outputs": [],
   "source": [
    "business['stop'].replace({'1-stop\\n\\t': '1-stop'}, inplace = True)\n",
    "\n",
    "business['stop'].replace({'2+-stop': '2-stops'}, inplace = True)"
   ]
  },
  {
   "cell_type": "code",
   "execution_count": 8,
   "id": "e7a46e69",
   "metadata": {},
   "outputs": [
    {
     "data": {
      "text/plain": [
       "1-stop      84302\n",
       "non-stop     8102\n",
       "2-stops      1083\n",
       "Name: stop, dtype: int64"
      ]
     },
     "execution_count": 8,
     "metadata": {},
     "output_type": "execute_result"
    }
   ],
   "source": [
    "business['stop'].value_counts()"
   ]
  },
  {
   "cell_type": "code",
   "execution_count": 9,
   "id": "dcc75ca6",
   "metadata": {},
   "outputs": [
    {
     "data": {
      "text/html": [
       "<div>\n",
       "<style scoped>\n",
       "    .dataframe tbody tr th:only-of-type {\n",
       "        vertical-align: middle;\n",
       "    }\n",
       "\n",
       "    .dataframe tbody tr th {\n",
       "        vertical-align: top;\n",
       "    }\n",
       "\n",
       "    .dataframe thead th {\n",
       "        text-align: right;\n",
       "    }\n",
       "</style>\n",
       "<table border=\"1\" class=\"dataframe\">\n",
       "  <thead>\n",
       "    <tr style=\"text-align: right;\">\n",
       "      <th></th>\n",
       "      <th>date</th>\n",
       "      <th>airline</th>\n",
       "      <th>ch_code</th>\n",
       "      <th>num_code</th>\n",
       "      <th>dep_time</th>\n",
       "      <th>from</th>\n",
       "      <th>time_taken</th>\n",
       "      <th>stop</th>\n",
       "      <th>arr_time</th>\n",
       "      <th>to</th>\n",
       "      <th>price</th>\n",
       "    </tr>\n",
       "  </thead>\n",
       "  <tbody>\n",
       "    <tr>\n",
       "      <th>0</th>\n",
       "      <td>11-02-2022</td>\n",
       "      <td>Air India</td>\n",
       "      <td>AI</td>\n",
       "      <td>868</td>\n",
       "      <td>18:00</td>\n",
       "      <td>Delhi</td>\n",
       "      <td>02h 00m</td>\n",
       "      <td>non-stop</td>\n",
       "      <td>20:00</td>\n",
       "      <td>Mumbai</td>\n",
       "      <td>25,612</td>\n",
       "    </tr>\n",
       "    <tr>\n",
       "      <th>1</th>\n",
       "      <td>11-02-2022</td>\n",
       "      <td>Air India</td>\n",
       "      <td>AI</td>\n",
       "      <td>624</td>\n",
       "      <td>19:00</td>\n",
       "      <td>Delhi</td>\n",
       "      <td>02h 15m</td>\n",
       "      <td>non-stop</td>\n",
       "      <td>21:15</td>\n",
       "      <td>Mumbai</td>\n",
       "      <td>25,612</td>\n",
       "    </tr>\n",
       "    <tr>\n",
       "      <th>2</th>\n",
       "      <td>11-02-2022</td>\n",
       "      <td>Air India</td>\n",
       "      <td>AI</td>\n",
       "      <td>531</td>\n",
       "      <td>20:00</td>\n",
       "      <td>Delhi</td>\n",
       "      <td>24h 45m</td>\n",
       "      <td>1-stop</td>\n",
       "      <td>20:45</td>\n",
       "      <td>Mumbai</td>\n",
       "      <td>42,220</td>\n",
       "    </tr>\n",
       "    <tr>\n",
       "      <th>3</th>\n",
       "      <td>11-02-2022</td>\n",
       "      <td>Air India</td>\n",
       "      <td>AI</td>\n",
       "      <td>839</td>\n",
       "      <td>21:25</td>\n",
       "      <td>Delhi</td>\n",
       "      <td>26h 30m</td>\n",
       "      <td>1-stop</td>\n",
       "      <td>23:55</td>\n",
       "      <td>Mumbai</td>\n",
       "      <td>44,450</td>\n",
       "    </tr>\n",
       "    <tr>\n",
       "      <th>4</th>\n",
       "      <td>11-02-2022</td>\n",
       "      <td>Air India</td>\n",
       "      <td>AI</td>\n",
       "      <td>544</td>\n",
       "      <td>17:15</td>\n",
       "      <td>Delhi</td>\n",
       "      <td>06h 40m</td>\n",
       "      <td>1-stop</td>\n",
       "      <td>23:55</td>\n",
       "      <td>Mumbai</td>\n",
       "      <td>46,690</td>\n",
       "    </tr>\n",
       "    <tr>\n",
       "      <th>5</th>\n",
       "      <td>11-02-2022</td>\n",
       "      <td>Vistara</td>\n",
       "      <td>UK</td>\n",
       "      <td>985</td>\n",
       "      <td>19:50</td>\n",
       "      <td>Delhi</td>\n",
       "      <td>02h 10m</td>\n",
       "      <td>non-stop</td>\n",
       "      <td>22:00</td>\n",
       "      <td>Mumbai</td>\n",
       "      <td>50,264</td>\n",
       "    </tr>\n",
       "    <tr>\n",
       "      <th>6</th>\n",
       "      <td>11-02-2022</td>\n",
       "      <td>Air India</td>\n",
       "      <td>AI</td>\n",
       "      <td>479</td>\n",
       "      <td>21:15</td>\n",
       "      <td>Delhi</td>\n",
       "      <td>17h 45m</td>\n",
       "      <td>1-stop</td>\n",
       "      <td>15:00</td>\n",
       "      <td>Mumbai</td>\n",
       "      <td>50,669</td>\n",
       "    </tr>\n",
       "    <tr>\n",
       "      <th>7</th>\n",
       "      <td>11-02-2022</td>\n",
       "      <td>Air India</td>\n",
       "      <td>AI</td>\n",
       "      <td>473</td>\n",
       "      <td>18:40</td>\n",
       "      <td>Delhi</td>\n",
       "      <td>22h 45m</td>\n",
       "      <td>1-stop</td>\n",
       "      <td>17:25</td>\n",
       "      <td>Mumbai</td>\n",
       "      <td>51,059</td>\n",
       "    </tr>\n",
       "    <tr>\n",
       "      <th>8</th>\n",
       "      <td>11-02-2022</td>\n",
       "      <td>Vistara</td>\n",
       "      <td>UK</td>\n",
       "      <td>871</td>\n",
       "      <td>20:35</td>\n",
       "      <td>Delhi</td>\n",
       "      <td>17h 55m</td>\n",
       "      <td>1-stop</td>\n",
       "      <td>14:30</td>\n",
       "      <td>Mumbai</td>\n",
       "      <td>51,731</td>\n",
       "    </tr>\n",
       "    <tr>\n",
       "      <th>9</th>\n",
       "      <td>11-02-2022</td>\n",
       "      <td>Vistara</td>\n",
       "      <td>UK</td>\n",
       "      <td>977</td>\n",
       "      <td>19:00</td>\n",
       "      <td>Delhi</td>\n",
       "      <td>02h 15m</td>\n",
       "      <td>non-stop</td>\n",
       "      <td>21:15</td>\n",
       "      <td>Mumbai</td>\n",
       "      <td>53,288</td>\n",
       "    </tr>\n",
       "  </tbody>\n",
       "</table>\n",
       "</div>"
      ],
      "text/plain": [
       "         date    airline ch_code  num_code dep_time   from time_taken  \\\n",
       "0  11-02-2022  Air India      AI       868    18:00  Delhi    02h 00m   \n",
       "1  11-02-2022  Air India      AI       624    19:00  Delhi    02h 15m   \n",
       "2  11-02-2022  Air India      AI       531    20:00  Delhi    24h 45m   \n",
       "3  11-02-2022  Air India      AI       839    21:25  Delhi    26h 30m   \n",
       "4  11-02-2022  Air India      AI       544    17:15  Delhi    06h 40m   \n",
       "5  11-02-2022    Vistara      UK       985    19:50  Delhi    02h 10m   \n",
       "6  11-02-2022  Air India      AI       479    21:15  Delhi    17h 45m   \n",
       "7  11-02-2022  Air India      AI       473    18:40  Delhi    22h 45m   \n",
       "8  11-02-2022    Vistara      UK       871    20:35  Delhi    17h 55m   \n",
       "9  11-02-2022    Vistara      UK       977    19:00  Delhi    02h 15m   \n",
       "\n",
       "       stop arr_time      to   price  \n",
       "0  non-stop    20:00  Mumbai  25,612  \n",
       "1  non-stop    21:15  Mumbai  25,612  \n",
       "2    1-stop    20:45  Mumbai  42,220  \n",
       "3    1-stop    23:55  Mumbai  44,450  \n",
       "4    1-stop    23:55  Mumbai  46,690  \n",
       "5  non-stop    22:00  Mumbai  50,264  \n",
       "6    1-stop    15:00  Mumbai  50,669  \n",
       "7    1-stop    17:25  Mumbai  51,059  \n",
       "8    1-stop    14:30  Mumbai  51,731  \n",
       "9  non-stop    21:15  Mumbai  53,288  "
      ]
     },
     "execution_count": 9,
     "metadata": {},
     "output_type": "execute_result"
    }
   ],
   "source": [
    "business.head(10)"
   ]
  },
  {
   "cell_type": "markdown",
   "id": "918aebdf",
   "metadata": {},
   "source": [
    "## Now that I've changed the data in the business dataframe, I'll do the same for the economy data:"
   ]
  },
  {
   "cell_type": "code",
   "execution_count": 10,
   "id": "aea1ec09",
   "metadata": {},
   "outputs": [
    {
     "data": {
      "text/plain": [
       "1-stop\\n\\t    166627\n",
       "non-stop       27942\n",
       "2+-stop        12205\n",
       "Name: stop, dtype: int64"
      ]
     },
     "execution_count": 10,
     "metadata": {},
     "output_type": "execute_result"
    }
   ],
   "source": [
    "economy['stop'] = economy['stop'].str.slice(0, 8)\n",
    "\n",
    "economy['stop'].value_counts()"
   ]
  },
  {
   "cell_type": "code",
   "execution_count": 11,
   "id": "97abc6fd",
   "metadata": {},
   "outputs": [],
   "source": [
    "economy['stop'].replace({'1-stop\\n\\t': '1-stop'}, inplace = True)\n",
    "\n",
    "economy['stop'].replace({'2+-stop': '2-stops'}, inplace = True)"
   ]
  },
  {
   "cell_type": "code",
   "execution_count": 12,
   "id": "bb0bb7e3",
   "metadata": {},
   "outputs": [
    {
     "data": {
      "text/plain": [
       "1-stop      166627\n",
       "non-stop     27942\n",
       "2-stops      12205\n",
       "Name: stop, dtype: int64"
      ]
     },
     "execution_count": 12,
     "metadata": {},
     "output_type": "execute_result"
    }
   ],
   "source": [
    "economy['stop'].value_counts()"
   ]
  },
  {
   "cell_type": "code",
   "execution_count": 13,
   "id": "cc4856f7",
   "metadata": {
    "scrolled": true
   },
   "outputs": [
    {
     "data": {
      "text/html": [
       "<div>\n",
       "<style scoped>\n",
       "    .dataframe tbody tr th:only-of-type {\n",
       "        vertical-align: middle;\n",
       "    }\n",
       "\n",
       "    .dataframe tbody tr th {\n",
       "        vertical-align: top;\n",
       "    }\n",
       "\n",
       "    .dataframe thead th {\n",
       "        text-align: right;\n",
       "    }\n",
       "</style>\n",
       "<table border=\"1\" class=\"dataframe\">\n",
       "  <thead>\n",
       "    <tr style=\"text-align: right;\">\n",
       "      <th></th>\n",
       "      <th>date</th>\n",
       "      <th>airline</th>\n",
       "      <th>ch_code</th>\n",
       "      <th>num_code</th>\n",
       "      <th>dep_time</th>\n",
       "      <th>from</th>\n",
       "      <th>time_taken</th>\n",
       "      <th>stop</th>\n",
       "      <th>arr_time</th>\n",
       "      <th>to</th>\n",
       "      <th>price</th>\n",
       "    </tr>\n",
       "  </thead>\n",
       "  <tbody>\n",
       "    <tr>\n",
       "      <th>0</th>\n",
       "      <td>11-02-2022</td>\n",
       "      <td>SpiceJet</td>\n",
       "      <td>SG</td>\n",
       "      <td>8709</td>\n",
       "      <td>18:55</td>\n",
       "      <td>Delhi</td>\n",
       "      <td>02h 10m</td>\n",
       "      <td>non-stop</td>\n",
       "      <td>21:05</td>\n",
       "      <td>Mumbai</td>\n",
       "      <td>5,953</td>\n",
       "    </tr>\n",
       "    <tr>\n",
       "      <th>1</th>\n",
       "      <td>11-02-2022</td>\n",
       "      <td>SpiceJet</td>\n",
       "      <td>SG</td>\n",
       "      <td>8157</td>\n",
       "      <td>06:20</td>\n",
       "      <td>Delhi</td>\n",
       "      <td>02h 20m</td>\n",
       "      <td>non-stop</td>\n",
       "      <td>08:40</td>\n",
       "      <td>Mumbai</td>\n",
       "      <td>5,953</td>\n",
       "    </tr>\n",
       "    <tr>\n",
       "      <th>2</th>\n",
       "      <td>11-02-2022</td>\n",
       "      <td>AirAsia</td>\n",
       "      <td>I5</td>\n",
       "      <td>764</td>\n",
       "      <td>04:25</td>\n",
       "      <td>Delhi</td>\n",
       "      <td>02h 10m</td>\n",
       "      <td>non-stop</td>\n",
       "      <td>06:35</td>\n",
       "      <td>Mumbai</td>\n",
       "      <td>5,956</td>\n",
       "    </tr>\n",
       "    <tr>\n",
       "      <th>3</th>\n",
       "      <td>11-02-2022</td>\n",
       "      <td>Vistara</td>\n",
       "      <td>UK</td>\n",
       "      <td>995</td>\n",
       "      <td>10:20</td>\n",
       "      <td>Delhi</td>\n",
       "      <td>02h 15m</td>\n",
       "      <td>non-stop</td>\n",
       "      <td>12:35</td>\n",
       "      <td>Mumbai</td>\n",
       "      <td>5,955</td>\n",
       "    </tr>\n",
       "    <tr>\n",
       "      <th>4</th>\n",
       "      <td>11-02-2022</td>\n",
       "      <td>Vistara</td>\n",
       "      <td>UK</td>\n",
       "      <td>963</td>\n",
       "      <td>08:50</td>\n",
       "      <td>Delhi</td>\n",
       "      <td>02h 20m</td>\n",
       "      <td>non-stop</td>\n",
       "      <td>11:10</td>\n",
       "      <td>Mumbai</td>\n",
       "      <td>5,955</td>\n",
       "    </tr>\n",
       "    <tr>\n",
       "      <th>5</th>\n",
       "      <td>11-02-2022</td>\n",
       "      <td>Vistara</td>\n",
       "      <td>UK</td>\n",
       "      <td>945</td>\n",
       "      <td>11:40</td>\n",
       "      <td>Delhi</td>\n",
       "      <td>02h 20m</td>\n",
       "      <td>non-stop</td>\n",
       "      <td>14:00</td>\n",
       "      <td>Mumbai</td>\n",
       "      <td>5,955</td>\n",
       "    </tr>\n",
       "    <tr>\n",
       "      <th>6</th>\n",
       "      <td>11-02-2022</td>\n",
       "      <td>Vistara</td>\n",
       "      <td>UK</td>\n",
       "      <td>927</td>\n",
       "      <td>09:30</td>\n",
       "      <td>Delhi</td>\n",
       "      <td>02h 05m</td>\n",
       "      <td>non-stop</td>\n",
       "      <td>11:35</td>\n",
       "      <td>Mumbai</td>\n",
       "      <td>6,060</td>\n",
       "    </tr>\n",
       "    <tr>\n",
       "      <th>7</th>\n",
       "      <td>11-02-2022</td>\n",
       "      <td>Vistara</td>\n",
       "      <td>UK</td>\n",
       "      <td>951</td>\n",
       "      <td>14:20</td>\n",
       "      <td>Delhi</td>\n",
       "      <td>02h 10m</td>\n",
       "      <td>non-stop</td>\n",
       "      <td>16:30</td>\n",
       "      <td>Mumbai</td>\n",
       "      <td>6,060</td>\n",
       "    </tr>\n",
       "    <tr>\n",
       "      <th>8</th>\n",
       "      <td>11-02-2022</td>\n",
       "      <td>GO FIRST</td>\n",
       "      <td>G8</td>\n",
       "      <td>334</td>\n",
       "      <td>08:00</td>\n",
       "      <td>Delhi</td>\n",
       "      <td>02h 10m</td>\n",
       "      <td>non-stop</td>\n",
       "      <td>10:10</td>\n",
       "      <td>Mumbai</td>\n",
       "      <td>5,954</td>\n",
       "    </tr>\n",
       "    <tr>\n",
       "      <th>9</th>\n",
       "      <td>11-02-2022</td>\n",
       "      <td>GO FIRST</td>\n",
       "      <td>G8</td>\n",
       "      <td>336</td>\n",
       "      <td>14:20</td>\n",
       "      <td>Delhi</td>\n",
       "      <td>02h 15m</td>\n",
       "      <td>non-stop</td>\n",
       "      <td>16:35</td>\n",
       "      <td>Mumbai</td>\n",
       "      <td>5,954</td>\n",
       "    </tr>\n",
       "  </tbody>\n",
       "</table>\n",
       "</div>"
      ],
      "text/plain": [
       "         date   airline ch_code  num_code dep_time   from time_taken  \\\n",
       "0  11-02-2022  SpiceJet      SG      8709    18:55  Delhi    02h 10m   \n",
       "1  11-02-2022  SpiceJet      SG      8157    06:20  Delhi    02h 20m   \n",
       "2  11-02-2022   AirAsia      I5       764    04:25  Delhi    02h 10m   \n",
       "3  11-02-2022   Vistara      UK       995    10:20  Delhi    02h 15m   \n",
       "4  11-02-2022   Vistara      UK       963    08:50  Delhi    02h 20m   \n",
       "5  11-02-2022   Vistara      UK       945    11:40  Delhi    02h 20m   \n",
       "6  11-02-2022   Vistara      UK       927    09:30  Delhi    02h 05m   \n",
       "7  11-02-2022   Vistara      UK       951    14:20  Delhi    02h 10m   \n",
       "8  11-02-2022  GO FIRST      G8       334    08:00  Delhi    02h 10m   \n",
       "9  11-02-2022  GO FIRST      G8       336    14:20  Delhi    02h 15m   \n",
       "\n",
       "       stop arr_time      to  price  \n",
       "0  non-stop    21:05  Mumbai  5,953  \n",
       "1  non-stop    08:40  Mumbai  5,953  \n",
       "2  non-stop    06:35  Mumbai  5,956  \n",
       "3  non-stop    12:35  Mumbai  5,955  \n",
       "4  non-stop    11:10  Mumbai  5,955  \n",
       "5  non-stop    14:00  Mumbai  5,955  \n",
       "6  non-stop    11:35  Mumbai  6,060  \n",
       "7  non-stop    16:30  Mumbai  6,060  \n",
       "8  non-stop    10:10  Mumbai  5,954  \n",
       "9  non-stop    16:35  Mumbai  5,954  "
      ]
     },
     "execution_count": 13,
     "metadata": {},
     "output_type": "execute_result"
    }
   ],
   "source": [
    "economy.head(10)"
   ]
  },
  {
   "cell_type": "markdown",
   "id": "59fb7b1e",
   "metadata": {},
   "source": [
    "## Now I'll check for null values and duplicates:"
   ]
  },
  {
   "cell_type": "code",
   "execution_count": 14,
   "id": "7572e038",
   "metadata": {},
   "outputs": [
    {
     "data": {
      "text/plain": [
       "date          0\n",
       "airline       0\n",
       "ch_code       0\n",
       "num_code      0\n",
       "dep_time      0\n",
       "from          0\n",
       "time_taken    0\n",
       "stop          0\n",
       "arr_time      0\n",
       "to            0\n",
       "price         0\n",
       "dtype: int64"
      ]
     },
     "execution_count": 14,
     "metadata": {},
     "output_type": "execute_result"
    }
   ],
   "source": [
    "business.isnull().sum()"
   ]
  },
  {
   "cell_type": "code",
   "execution_count": 15,
   "id": "8f3cd8d7",
   "metadata": {},
   "outputs": [
    {
     "data": {
      "text/plain": [
       "0"
      ]
     },
     "execution_count": 15,
     "metadata": {},
     "output_type": "execute_result"
    }
   ],
   "source": [
    "business_dupe = business.duplicated().sum()\n",
    "business_dupe"
   ]
  },
  {
   "cell_type": "code",
   "execution_count": 16,
   "id": "d121c27b",
   "metadata": {},
   "outputs": [
    {
     "data": {
      "text/plain": [
       "date          0\n",
       "airline       0\n",
       "ch_code       0\n",
       "num_code      0\n",
       "dep_time      0\n",
       "from          0\n",
       "time_taken    0\n",
       "stop          0\n",
       "arr_time      0\n",
       "to            0\n",
       "price         0\n",
       "dtype: int64"
      ]
     },
     "execution_count": 16,
     "metadata": {},
     "output_type": "execute_result"
    }
   ],
   "source": [
    "economy.isnull().sum()"
   ]
  },
  {
   "cell_type": "code",
   "execution_count": 17,
   "id": "6d4a261d",
   "metadata": {},
   "outputs": [
    {
     "data": {
      "text/plain": [
       "2"
      ]
     },
     "execution_count": 17,
     "metadata": {},
     "output_type": "execute_result"
    }
   ],
   "source": [
    "economy_dupe = economy.duplicated().sum()\n",
    "economy_dupe"
   ]
  },
  {
   "cell_type": "markdown",
   "id": "47567174",
   "metadata": {},
   "source": [
    "## I can see there are duplicate rows in the economy table. I'll take a look at them and then remove them:"
   ]
  },
  {
   "cell_type": "code",
   "execution_count": 18,
   "id": "524a8e36",
   "metadata": {},
   "outputs": [
    {
     "name": "stdout",
     "output_type": "stream",
     "text": [
      "Duplicated rows:\n",
      "            date    airline ch_code  num_code dep_time   from time_taken  \\\n",
      "516   14-02-2022  Air India      AI       807    17:20  Delhi    15h 15m   \n",
      "563   14-02-2022  Air India      AI       807    17:20  Delhi    15h 15m   \n",
      "6080  13-03-2022  Air India      AI       475    13:00  Delhi    24h 35m   \n",
      "6181  13-03-2022  Air India      AI       475    13:00  Delhi    24h 35m   \n",
      "\n",
      "        stop arr_time      to   price  \n",
      "516   1-stop    08:35  Mumbai  12,150  \n",
      "563   1-stop    08:35  Mumbai  12,150  \n",
      "6080  1-stop    13:35  Mumbai   4,780  \n",
      "6181  1-stop    13:35  Mumbai   4,780  \n"
     ]
    }
   ],
   "source": [
    "economy_dupe = economy.duplicated(keep=False).sum()\n",
    "\n",
    "if economy_dupe > 0:\n",
    "    print('Duplicated rows:')\n",
    "    print(economy[economy.duplicated(keep=False)])\n",
    "else:\n",
    "    print('No duplicated rows')"
   ]
  },
  {
   "cell_type": "code",
   "execution_count": 19,
   "id": "1a1a6f2e",
   "metadata": {},
   "outputs": [],
   "source": [
    "economy = economy.drop_duplicates()"
   ]
  },
  {
   "cell_type": "code",
   "execution_count": 20,
   "id": "8204079a",
   "metadata": {},
   "outputs": [
    {
     "name": "stdout",
     "output_type": "stream",
     "text": [
      "No duplicated rows\n"
     ]
    }
   ],
   "source": [
    "economy_dupe = economy.duplicated(keep=False).sum()\n",
    "\n",
    "if economy_dupe > 0:\n",
    "    print('Duplicated rows:')\n",
    "    print(economy[economy.duplicated(keep=False)])\n",
    "else:\n",
    "    print('No duplicated rows')"
   ]
  },
  {
   "cell_type": "markdown",
   "id": "e8647c36",
   "metadata": {},
   "source": [
    "## Before I combine these dataframes, I will add a column to each called \"class\" that will say either business or economy:"
   ]
  },
  {
   "cell_type": "code",
   "execution_count": 21,
   "id": "691c3dd1",
   "metadata": {},
   "outputs": [
    {
     "data": {
      "text/html": [
       "<div>\n",
       "<style scoped>\n",
       "    .dataframe tbody tr th:only-of-type {\n",
       "        vertical-align: middle;\n",
       "    }\n",
       "\n",
       "    .dataframe tbody tr th {\n",
       "        vertical-align: top;\n",
       "    }\n",
       "\n",
       "    .dataframe thead th {\n",
       "        text-align: right;\n",
       "    }\n",
       "</style>\n",
       "<table border=\"1\" class=\"dataframe\">\n",
       "  <thead>\n",
       "    <tr style=\"text-align: right;\">\n",
       "      <th></th>\n",
       "      <th>date</th>\n",
       "      <th>airline</th>\n",
       "      <th>ch_code</th>\n",
       "      <th>num_code</th>\n",
       "      <th>dep_time</th>\n",
       "      <th>from</th>\n",
       "      <th>time_taken</th>\n",
       "      <th>stop</th>\n",
       "      <th>arr_time</th>\n",
       "      <th>to</th>\n",
       "      <th>price</th>\n",
       "      <th>class</th>\n",
       "    </tr>\n",
       "  </thead>\n",
       "  <tbody>\n",
       "    <tr>\n",
       "      <th>0</th>\n",
       "      <td>11-02-2022</td>\n",
       "      <td>SpiceJet</td>\n",
       "      <td>SG</td>\n",
       "      <td>8709</td>\n",
       "      <td>18:55</td>\n",
       "      <td>Delhi</td>\n",
       "      <td>02h 10m</td>\n",
       "      <td>non-stop</td>\n",
       "      <td>21:05</td>\n",
       "      <td>Mumbai</td>\n",
       "      <td>5,953</td>\n",
       "      <td>economy</td>\n",
       "    </tr>\n",
       "    <tr>\n",
       "      <th>1</th>\n",
       "      <td>11-02-2022</td>\n",
       "      <td>SpiceJet</td>\n",
       "      <td>SG</td>\n",
       "      <td>8157</td>\n",
       "      <td>06:20</td>\n",
       "      <td>Delhi</td>\n",
       "      <td>02h 20m</td>\n",
       "      <td>non-stop</td>\n",
       "      <td>08:40</td>\n",
       "      <td>Mumbai</td>\n",
       "      <td>5,953</td>\n",
       "      <td>economy</td>\n",
       "    </tr>\n",
       "    <tr>\n",
       "      <th>2</th>\n",
       "      <td>11-02-2022</td>\n",
       "      <td>AirAsia</td>\n",
       "      <td>I5</td>\n",
       "      <td>764</td>\n",
       "      <td>04:25</td>\n",
       "      <td>Delhi</td>\n",
       "      <td>02h 10m</td>\n",
       "      <td>non-stop</td>\n",
       "      <td>06:35</td>\n",
       "      <td>Mumbai</td>\n",
       "      <td>5,956</td>\n",
       "      <td>economy</td>\n",
       "    </tr>\n",
       "    <tr>\n",
       "      <th>3</th>\n",
       "      <td>11-02-2022</td>\n",
       "      <td>Vistara</td>\n",
       "      <td>UK</td>\n",
       "      <td>995</td>\n",
       "      <td>10:20</td>\n",
       "      <td>Delhi</td>\n",
       "      <td>02h 15m</td>\n",
       "      <td>non-stop</td>\n",
       "      <td>12:35</td>\n",
       "      <td>Mumbai</td>\n",
       "      <td>5,955</td>\n",
       "      <td>economy</td>\n",
       "    </tr>\n",
       "    <tr>\n",
       "      <th>4</th>\n",
       "      <td>11-02-2022</td>\n",
       "      <td>Vistara</td>\n",
       "      <td>UK</td>\n",
       "      <td>963</td>\n",
       "      <td>08:50</td>\n",
       "      <td>Delhi</td>\n",
       "      <td>02h 20m</td>\n",
       "      <td>non-stop</td>\n",
       "      <td>11:10</td>\n",
       "      <td>Mumbai</td>\n",
       "      <td>5,955</td>\n",
       "      <td>economy</td>\n",
       "    </tr>\n",
       "    <tr>\n",
       "      <th>5</th>\n",
       "      <td>11-02-2022</td>\n",
       "      <td>Vistara</td>\n",
       "      <td>UK</td>\n",
       "      <td>945</td>\n",
       "      <td>11:40</td>\n",
       "      <td>Delhi</td>\n",
       "      <td>02h 20m</td>\n",
       "      <td>non-stop</td>\n",
       "      <td>14:00</td>\n",
       "      <td>Mumbai</td>\n",
       "      <td>5,955</td>\n",
       "      <td>economy</td>\n",
       "    </tr>\n",
       "    <tr>\n",
       "      <th>6</th>\n",
       "      <td>11-02-2022</td>\n",
       "      <td>Vistara</td>\n",
       "      <td>UK</td>\n",
       "      <td>927</td>\n",
       "      <td>09:30</td>\n",
       "      <td>Delhi</td>\n",
       "      <td>02h 05m</td>\n",
       "      <td>non-stop</td>\n",
       "      <td>11:35</td>\n",
       "      <td>Mumbai</td>\n",
       "      <td>6,060</td>\n",
       "      <td>economy</td>\n",
       "    </tr>\n",
       "    <tr>\n",
       "      <th>7</th>\n",
       "      <td>11-02-2022</td>\n",
       "      <td>Vistara</td>\n",
       "      <td>UK</td>\n",
       "      <td>951</td>\n",
       "      <td>14:20</td>\n",
       "      <td>Delhi</td>\n",
       "      <td>02h 10m</td>\n",
       "      <td>non-stop</td>\n",
       "      <td>16:30</td>\n",
       "      <td>Mumbai</td>\n",
       "      <td>6,060</td>\n",
       "      <td>economy</td>\n",
       "    </tr>\n",
       "    <tr>\n",
       "      <th>8</th>\n",
       "      <td>11-02-2022</td>\n",
       "      <td>GO FIRST</td>\n",
       "      <td>G8</td>\n",
       "      <td>334</td>\n",
       "      <td>08:00</td>\n",
       "      <td>Delhi</td>\n",
       "      <td>02h 10m</td>\n",
       "      <td>non-stop</td>\n",
       "      <td>10:10</td>\n",
       "      <td>Mumbai</td>\n",
       "      <td>5,954</td>\n",
       "      <td>economy</td>\n",
       "    </tr>\n",
       "    <tr>\n",
       "      <th>9</th>\n",
       "      <td>11-02-2022</td>\n",
       "      <td>GO FIRST</td>\n",
       "      <td>G8</td>\n",
       "      <td>336</td>\n",
       "      <td>14:20</td>\n",
       "      <td>Delhi</td>\n",
       "      <td>02h 15m</td>\n",
       "      <td>non-stop</td>\n",
       "      <td>16:35</td>\n",
       "      <td>Mumbai</td>\n",
       "      <td>5,954</td>\n",
       "      <td>economy</td>\n",
       "    </tr>\n",
       "  </tbody>\n",
       "</table>\n",
       "</div>"
      ],
      "text/plain": [
       "         date   airline ch_code  num_code dep_time   from time_taken  \\\n",
       "0  11-02-2022  SpiceJet      SG      8709    18:55  Delhi    02h 10m   \n",
       "1  11-02-2022  SpiceJet      SG      8157    06:20  Delhi    02h 20m   \n",
       "2  11-02-2022   AirAsia      I5       764    04:25  Delhi    02h 10m   \n",
       "3  11-02-2022   Vistara      UK       995    10:20  Delhi    02h 15m   \n",
       "4  11-02-2022   Vistara      UK       963    08:50  Delhi    02h 20m   \n",
       "5  11-02-2022   Vistara      UK       945    11:40  Delhi    02h 20m   \n",
       "6  11-02-2022   Vistara      UK       927    09:30  Delhi    02h 05m   \n",
       "7  11-02-2022   Vistara      UK       951    14:20  Delhi    02h 10m   \n",
       "8  11-02-2022  GO FIRST      G8       334    08:00  Delhi    02h 10m   \n",
       "9  11-02-2022  GO FIRST      G8       336    14:20  Delhi    02h 15m   \n",
       "\n",
       "       stop arr_time      to  price    class  \n",
       "0  non-stop    21:05  Mumbai  5,953  economy  \n",
       "1  non-stop    08:40  Mumbai  5,953  economy  \n",
       "2  non-stop    06:35  Mumbai  5,956  economy  \n",
       "3  non-stop    12:35  Mumbai  5,955  economy  \n",
       "4  non-stop    11:10  Mumbai  5,955  economy  \n",
       "5  non-stop    14:00  Mumbai  5,955  economy  \n",
       "6  non-stop    11:35  Mumbai  6,060  economy  \n",
       "7  non-stop    16:30  Mumbai  6,060  economy  \n",
       "8  non-stop    10:10  Mumbai  5,954  economy  \n",
       "9  non-stop    16:35  Mumbai  5,954  economy  "
      ]
     },
     "execution_count": 21,
     "metadata": {},
     "output_type": "execute_result"
    }
   ],
   "source": [
    "economy['class'] = \"economy\"\n",
    "\n",
    "economy.head(10)"
   ]
  },
  {
   "cell_type": "code",
   "execution_count": 22,
   "id": "6f54c726",
   "metadata": {},
   "outputs": [
    {
     "data": {
      "text/html": [
       "<div>\n",
       "<style scoped>\n",
       "    .dataframe tbody tr th:only-of-type {\n",
       "        vertical-align: middle;\n",
       "    }\n",
       "\n",
       "    .dataframe tbody tr th {\n",
       "        vertical-align: top;\n",
       "    }\n",
       "\n",
       "    .dataframe thead th {\n",
       "        text-align: right;\n",
       "    }\n",
       "</style>\n",
       "<table border=\"1\" class=\"dataframe\">\n",
       "  <thead>\n",
       "    <tr style=\"text-align: right;\">\n",
       "      <th></th>\n",
       "      <th>date</th>\n",
       "      <th>airline</th>\n",
       "      <th>ch_code</th>\n",
       "      <th>num_code</th>\n",
       "      <th>dep_time</th>\n",
       "      <th>from</th>\n",
       "      <th>time_taken</th>\n",
       "      <th>stop</th>\n",
       "      <th>arr_time</th>\n",
       "      <th>to</th>\n",
       "      <th>price</th>\n",
       "      <th>class</th>\n",
       "    </tr>\n",
       "  </thead>\n",
       "  <tbody>\n",
       "    <tr>\n",
       "      <th>0</th>\n",
       "      <td>11-02-2022</td>\n",
       "      <td>Air India</td>\n",
       "      <td>AI</td>\n",
       "      <td>868</td>\n",
       "      <td>18:00</td>\n",
       "      <td>Delhi</td>\n",
       "      <td>02h 00m</td>\n",
       "      <td>non-stop</td>\n",
       "      <td>20:00</td>\n",
       "      <td>Mumbai</td>\n",
       "      <td>25,612</td>\n",
       "      <td>business</td>\n",
       "    </tr>\n",
       "    <tr>\n",
       "      <th>1</th>\n",
       "      <td>11-02-2022</td>\n",
       "      <td>Air India</td>\n",
       "      <td>AI</td>\n",
       "      <td>624</td>\n",
       "      <td>19:00</td>\n",
       "      <td>Delhi</td>\n",
       "      <td>02h 15m</td>\n",
       "      <td>non-stop</td>\n",
       "      <td>21:15</td>\n",
       "      <td>Mumbai</td>\n",
       "      <td>25,612</td>\n",
       "      <td>business</td>\n",
       "    </tr>\n",
       "    <tr>\n",
       "      <th>2</th>\n",
       "      <td>11-02-2022</td>\n",
       "      <td>Air India</td>\n",
       "      <td>AI</td>\n",
       "      <td>531</td>\n",
       "      <td>20:00</td>\n",
       "      <td>Delhi</td>\n",
       "      <td>24h 45m</td>\n",
       "      <td>1-stop</td>\n",
       "      <td>20:45</td>\n",
       "      <td>Mumbai</td>\n",
       "      <td>42,220</td>\n",
       "      <td>business</td>\n",
       "    </tr>\n",
       "    <tr>\n",
       "      <th>3</th>\n",
       "      <td>11-02-2022</td>\n",
       "      <td>Air India</td>\n",
       "      <td>AI</td>\n",
       "      <td>839</td>\n",
       "      <td>21:25</td>\n",
       "      <td>Delhi</td>\n",
       "      <td>26h 30m</td>\n",
       "      <td>1-stop</td>\n",
       "      <td>23:55</td>\n",
       "      <td>Mumbai</td>\n",
       "      <td>44,450</td>\n",
       "      <td>business</td>\n",
       "    </tr>\n",
       "    <tr>\n",
       "      <th>4</th>\n",
       "      <td>11-02-2022</td>\n",
       "      <td>Air India</td>\n",
       "      <td>AI</td>\n",
       "      <td>544</td>\n",
       "      <td>17:15</td>\n",
       "      <td>Delhi</td>\n",
       "      <td>06h 40m</td>\n",
       "      <td>1-stop</td>\n",
       "      <td>23:55</td>\n",
       "      <td>Mumbai</td>\n",
       "      <td>46,690</td>\n",
       "      <td>business</td>\n",
       "    </tr>\n",
       "    <tr>\n",
       "      <th>5</th>\n",
       "      <td>11-02-2022</td>\n",
       "      <td>Vistara</td>\n",
       "      <td>UK</td>\n",
       "      <td>985</td>\n",
       "      <td>19:50</td>\n",
       "      <td>Delhi</td>\n",
       "      <td>02h 10m</td>\n",
       "      <td>non-stop</td>\n",
       "      <td>22:00</td>\n",
       "      <td>Mumbai</td>\n",
       "      <td>50,264</td>\n",
       "      <td>business</td>\n",
       "    </tr>\n",
       "    <tr>\n",
       "      <th>6</th>\n",
       "      <td>11-02-2022</td>\n",
       "      <td>Air India</td>\n",
       "      <td>AI</td>\n",
       "      <td>479</td>\n",
       "      <td>21:15</td>\n",
       "      <td>Delhi</td>\n",
       "      <td>17h 45m</td>\n",
       "      <td>1-stop</td>\n",
       "      <td>15:00</td>\n",
       "      <td>Mumbai</td>\n",
       "      <td>50,669</td>\n",
       "      <td>business</td>\n",
       "    </tr>\n",
       "    <tr>\n",
       "      <th>7</th>\n",
       "      <td>11-02-2022</td>\n",
       "      <td>Air India</td>\n",
       "      <td>AI</td>\n",
       "      <td>473</td>\n",
       "      <td>18:40</td>\n",
       "      <td>Delhi</td>\n",
       "      <td>22h 45m</td>\n",
       "      <td>1-stop</td>\n",
       "      <td>17:25</td>\n",
       "      <td>Mumbai</td>\n",
       "      <td>51,059</td>\n",
       "      <td>business</td>\n",
       "    </tr>\n",
       "    <tr>\n",
       "      <th>8</th>\n",
       "      <td>11-02-2022</td>\n",
       "      <td>Vistara</td>\n",
       "      <td>UK</td>\n",
       "      <td>871</td>\n",
       "      <td>20:35</td>\n",
       "      <td>Delhi</td>\n",
       "      <td>17h 55m</td>\n",
       "      <td>1-stop</td>\n",
       "      <td>14:30</td>\n",
       "      <td>Mumbai</td>\n",
       "      <td>51,731</td>\n",
       "      <td>business</td>\n",
       "    </tr>\n",
       "    <tr>\n",
       "      <th>9</th>\n",
       "      <td>11-02-2022</td>\n",
       "      <td>Vistara</td>\n",
       "      <td>UK</td>\n",
       "      <td>977</td>\n",
       "      <td>19:00</td>\n",
       "      <td>Delhi</td>\n",
       "      <td>02h 15m</td>\n",
       "      <td>non-stop</td>\n",
       "      <td>21:15</td>\n",
       "      <td>Mumbai</td>\n",
       "      <td>53,288</td>\n",
       "      <td>business</td>\n",
       "    </tr>\n",
       "  </tbody>\n",
       "</table>\n",
       "</div>"
      ],
      "text/plain": [
       "         date    airline ch_code  num_code dep_time   from time_taken  \\\n",
       "0  11-02-2022  Air India      AI       868    18:00  Delhi    02h 00m   \n",
       "1  11-02-2022  Air India      AI       624    19:00  Delhi    02h 15m   \n",
       "2  11-02-2022  Air India      AI       531    20:00  Delhi    24h 45m   \n",
       "3  11-02-2022  Air India      AI       839    21:25  Delhi    26h 30m   \n",
       "4  11-02-2022  Air India      AI       544    17:15  Delhi    06h 40m   \n",
       "5  11-02-2022    Vistara      UK       985    19:50  Delhi    02h 10m   \n",
       "6  11-02-2022  Air India      AI       479    21:15  Delhi    17h 45m   \n",
       "7  11-02-2022  Air India      AI       473    18:40  Delhi    22h 45m   \n",
       "8  11-02-2022    Vistara      UK       871    20:35  Delhi    17h 55m   \n",
       "9  11-02-2022    Vistara      UK       977    19:00  Delhi    02h 15m   \n",
       "\n",
       "       stop arr_time      to   price     class  \n",
       "0  non-stop    20:00  Mumbai  25,612  business  \n",
       "1  non-stop    21:15  Mumbai  25,612  business  \n",
       "2    1-stop    20:45  Mumbai  42,220  business  \n",
       "3    1-stop    23:55  Mumbai  44,450  business  \n",
       "4    1-stop    23:55  Mumbai  46,690  business  \n",
       "5  non-stop    22:00  Mumbai  50,264  business  \n",
       "6    1-stop    15:00  Mumbai  50,669  business  \n",
       "7    1-stop    17:25  Mumbai  51,059  business  \n",
       "8    1-stop    14:30  Mumbai  51,731  business  \n",
       "9  non-stop    21:15  Mumbai  53,288  business  "
      ]
     },
     "execution_count": 22,
     "metadata": {},
     "output_type": "execute_result"
    }
   ],
   "source": [
    "business['class'] = \"business\"\n",
    "\n",
    "business.head(10)"
   ]
  },
  {
   "cell_type": "markdown",
   "id": "f3c48c7a",
   "metadata": {},
   "source": [
    "## Combining dataframes and checking the shapes:"
   ]
  },
  {
   "cell_type": "code",
   "execution_count": 23,
   "id": "d1dcbc22",
   "metadata": {},
   "outputs": [],
   "source": [
    "df = pd.concat([business, economy])"
   ]
  },
  {
   "cell_type": "code",
   "execution_count": 24,
   "id": "ee9e6f96",
   "metadata": {},
   "outputs": [
    {
     "name": "stdout",
     "output_type": "stream",
     "text": [
      "(93487, 12)\n",
      "(206772, 12)\n",
      "(300259, 12)\n"
     ]
    }
   ],
   "source": [
    "print(business.shape)\n",
    "print(economy.shape)\n",
    "print(df.shape)"
   ]
  },
  {
   "cell_type": "code",
   "execution_count": 25,
   "id": "a3e867e6",
   "metadata": {},
   "outputs": [
    {
     "data": {
      "text/plain": [
       "300259"
      ]
     },
     "execution_count": 25,
     "metadata": {},
     "output_type": "execute_result"
    }
   ],
   "source": [
    "93487 + 206772"
   ]
  },
  {
   "cell_type": "code",
   "execution_count": 26,
   "id": "62767c67",
   "metadata": {},
   "outputs": [
    {
     "data": {
      "text/html": [
       "<div>\n",
       "<style scoped>\n",
       "    .dataframe tbody tr th:only-of-type {\n",
       "        vertical-align: middle;\n",
       "    }\n",
       "\n",
       "    .dataframe tbody tr th {\n",
       "        vertical-align: top;\n",
       "    }\n",
       "\n",
       "    .dataframe thead th {\n",
       "        text-align: right;\n",
       "    }\n",
       "</style>\n",
       "<table border=\"1\" class=\"dataframe\">\n",
       "  <thead>\n",
       "    <tr style=\"text-align: right;\">\n",
       "      <th></th>\n",
       "      <th>date</th>\n",
       "      <th>airline</th>\n",
       "      <th>ch_code</th>\n",
       "      <th>num_code</th>\n",
       "      <th>dep_time</th>\n",
       "      <th>from</th>\n",
       "      <th>time_taken</th>\n",
       "      <th>stop</th>\n",
       "      <th>arr_time</th>\n",
       "      <th>to</th>\n",
       "      <th>price</th>\n",
       "      <th>class</th>\n",
       "    </tr>\n",
       "  </thead>\n",
       "  <tbody>\n",
       "    <tr>\n",
       "      <th>0</th>\n",
       "      <td>11-02-2022</td>\n",
       "      <td>Air India</td>\n",
       "      <td>AI</td>\n",
       "      <td>868</td>\n",
       "      <td>18:00</td>\n",
       "      <td>Delhi</td>\n",
       "      <td>02h 00m</td>\n",
       "      <td>non-stop</td>\n",
       "      <td>20:00</td>\n",
       "      <td>Mumbai</td>\n",
       "      <td>25,612</td>\n",
       "      <td>business</td>\n",
       "    </tr>\n",
       "    <tr>\n",
       "      <th>1</th>\n",
       "      <td>11-02-2022</td>\n",
       "      <td>Air India</td>\n",
       "      <td>AI</td>\n",
       "      <td>624</td>\n",
       "      <td>19:00</td>\n",
       "      <td>Delhi</td>\n",
       "      <td>02h 15m</td>\n",
       "      <td>non-stop</td>\n",
       "      <td>21:15</td>\n",
       "      <td>Mumbai</td>\n",
       "      <td>25,612</td>\n",
       "      <td>business</td>\n",
       "    </tr>\n",
       "    <tr>\n",
       "      <th>2</th>\n",
       "      <td>11-02-2022</td>\n",
       "      <td>Air India</td>\n",
       "      <td>AI</td>\n",
       "      <td>531</td>\n",
       "      <td>20:00</td>\n",
       "      <td>Delhi</td>\n",
       "      <td>24h 45m</td>\n",
       "      <td>1-stop</td>\n",
       "      <td>20:45</td>\n",
       "      <td>Mumbai</td>\n",
       "      <td>42,220</td>\n",
       "      <td>business</td>\n",
       "    </tr>\n",
       "    <tr>\n",
       "      <th>3</th>\n",
       "      <td>11-02-2022</td>\n",
       "      <td>Air India</td>\n",
       "      <td>AI</td>\n",
       "      <td>839</td>\n",
       "      <td>21:25</td>\n",
       "      <td>Delhi</td>\n",
       "      <td>26h 30m</td>\n",
       "      <td>1-stop</td>\n",
       "      <td>23:55</td>\n",
       "      <td>Mumbai</td>\n",
       "      <td>44,450</td>\n",
       "      <td>business</td>\n",
       "    </tr>\n",
       "    <tr>\n",
       "      <th>4</th>\n",
       "      <td>11-02-2022</td>\n",
       "      <td>Air India</td>\n",
       "      <td>AI</td>\n",
       "      <td>544</td>\n",
       "      <td>17:15</td>\n",
       "      <td>Delhi</td>\n",
       "      <td>06h 40m</td>\n",
       "      <td>1-stop</td>\n",
       "      <td>23:55</td>\n",
       "      <td>Mumbai</td>\n",
       "      <td>46,690</td>\n",
       "      <td>business</td>\n",
       "    </tr>\n",
       "  </tbody>\n",
       "</table>\n",
       "</div>"
      ],
      "text/plain": [
       "         date    airline ch_code  num_code dep_time   from time_taken  \\\n",
       "0  11-02-2022  Air India      AI       868    18:00  Delhi    02h 00m   \n",
       "1  11-02-2022  Air India      AI       624    19:00  Delhi    02h 15m   \n",
       "2  11-02-2022  Air India      AI       531    20:00  Delhi    24h 45m   \n",
       "3  11-02-2022  Air India      AI       839    21:25  Delhi    26h 30m   \n",
       "4  11-02-2022  Air India      AI       544    17:15  Delhi    06h 40m   \n",
       "\n",
       "       stop arr_time      to   price     class  \n",
       "0  non-stop    20:00  Mumbai  25,612  business  \n",
       "1  non-stop    21:15  Mumbai  25,612  business  \n",
       "2    1-stop    20:45  Mumbai  42,220  business  \n",
       "3    1-stop    23:55  Mumbai  44,450  business  \n",
       "4    1-stop    23:55  Mumbai  46,690  business  "
      ]
     },
     "execution_count": 26,
     "metadata": {},
     "output_type": "execute_result"
    }
   ],
   "source": [
    "df.head()"
   ]
  },
  {
   "cell_type": "code",
   "execution_count": 27,
   "id": "cd1d35c1",
   "metadata": {
    "scrolled": true
   },
   "outputs": [
    {
     "data": {
      "text/plain": [
       "date          object\n",
       "airline       object\n",
       "ch_code       object\n",
       "num_code       int64\n",
       "dep_time      object\n",
       "from          object\n",
       "time_taken    object\n",
       "stop          object\n",
       "arr_time      object\n",
       "to            object\n",
       "price         object\n",
       "class         object\n",
       "dtype: object"
      ]
     },
     "execution_count": 27,
     "metadata": {},
     "output_type": "execute_result"
    }
   ],
   "source": [
    "df.dtypes"
   ]
  },
  {
   "cell_type": "markdown",
   "id": "b7389403",
   "metadata": {},
   "source": [
    "## I want price to be type int, not an object\n",
    "## I need to remove the commas from the values first:"
   ]
  },
  {
   "cell_type": "code",
   "execution_count": 28,
   "id": "67e94d3a",
   "metadata": {},
   "outputs": [],
   "source": [
    "df['price'] = df['price'].str.replace(',', '')"
   ]
  },
  {
   "cell_type": "code",
   "execution_count": 29,
   "id": "b8848e8c",
   "metadata": {},
   "outputs": [],
   "source": [
    "df['price'] = df['price'].astype('int')"
   ]
  },
  {
   "cell_type": "code",
   "execution_count": 30,
   "id": "0e0a9bcf",
   "metadata": {
    "scrolled": true
   },
   "outputs": [
    {
     "data": {
      "text/plain": [
       "date          object\n",
       "airline       object\n",
       "ch_code       object\n",
       "num_code       int64\n",
       "dep_time      object\n",
       "from          object\n",
       "time_taken    object\n",
       "stop          object\n",
       "arr_time      object\n",
       "to            object\n",
       "price          int32\n",
       "class         object\n",
       "dtype: object"
      ]
     },
     "execution_count": 30,
     "metadata": {},
     "output_type": "execute_result"
    }
   ],
   "source": [
    "df.dtypes"
   ]
  },
  {
   "cell_type": "markdown",
   "id": "f2839937",
   "metadata": {},
   "source": [
    "## Let's convert time_taken to an integer and represent it in minutes."
   ]
  },
  {
   "cell_type": "code",
   "execution_count": 31,
   "id": "72e786cb",
   "metadata": {},
   "outputs": [],
   "source": [
    "time_taken = df['time_taken'].value_counts()"
   ]
  },
  {
   "cell_type": "code",
   "execution_count": 32,
   "id": "c5ce8304",
   "metadata": {
    "scrolled": true
   },
   "outputs": [
    {
     "data": {
      "text/plain": [
       "02h 10m    4242\n",
       "02h 15m    4036\n",
       "02h 45m    2879\n",
       "02h 05m    2755\n",
       "02h 50m    2323\n",
       "           ... \n",
       "38h 45m       1\n",
       "1.01h m       1\n",
       "1.02h m       1\n",
       "38h 30m       1\n",
       "41h 30m       1\n",
       "Name: time_taken, Length: 483, dtype: int64"
      ]
     },
     "execution_count": 32,
     "metadata": {},
     "output_type": "execute_result"
    }
   ],
   "source": [
    "time_taken"
   ]
  },
  {
   "cell_type": "markdown",
   "id": "9e9ef1bd",
   "metadata": {},
   "source": [
    "### I need to remove columns that don't match the rest of the values' syntax first. I can see there are 2 values here (1.01h m, 1.02h m) that don't match the rest.\n",
    "\n",
    "### There is one more value (1.03h m) that you cannot see because the \"max rows\" option has been reset, but there are two rows that contain that value.\n",
    "\n",
    "### They will be removed as well, so 4 rows removed total here:"
   ]
  },
  {
   "cell_type": "code",
   "execution_count": 33,
   "id": "2d98e80c",
   "metadata": {},
   "outputs": [
    {
     "data": {
      "text/plain": [
       "(300259, 12)"
      ]
     },
     "execution_count": 33,
     "metadata": {},
     "output_type": "execute_result"
    }
   ],
   "source": [
    "df.shape"
   ]
  },
  {
   "cell_type": "code",
   "execution_count": 34,
   "id": "c8142569",
   "metadata": {},
   "outputs": [],
   "source": [
    "values_to_remove = ['1.01h m', '1.02h m', '1.03h m']\n",
    "\n",
    "df = df[~df['time_taken'].isin(values_to_remove)]"
   ]
  },
  {
   "cell_type": "code",
   "execution_count": 35,
   "id": "c8f6f51d",
   "metadata": {},
   "outputs": [
    {
     "data": {
      "text/plain": [
       "(300255, 12)"
      ]
     },
     "execution_count": 35,
     "metadata": {},
     "output_type": "execute_result"
    }
   ],
   "source": [
    "df.shape"
   ]
  },
  {
   "cell_type": "markdown",
   "id": "db3d51ed",
   "metadata": {},
   "source": [
    "## Now let's actually make it type int:\n",
    "\n",
    "### I'll first create a function that will convert the time_taken into total minutes. Then, change to type int:"
   ]
  },
  {
   "cell_type": "code",
   "execution_count": 36,
   "id": "1738a36e",
   "metadata": {},
   "outputs": [
    {
     "data": {
      "text/html": [
       "<div>\n",
       "<style scoped>\n",
       "    .dataframe tbody tr th:only-of-type {\n",
       "        vertical-align: middle;\n",
       "    }\n",
       "\n",
       "    .dataframe tbody tr th {\n",
       "        vertical-align: top;\n",
       "    }\n",
       "\n",
       "    .dataframe thead th {\n",
       "        text-align: right;\n",
       "    }\n",
       "</style>\n",
       "<table border=\"1\" class=\"dataframe\">\n",
       "  <thead>\n",
       "    <tr style=\"text-align: right;\">\n",
       "      <th></th>\n",
       "      <th>time_taken</th>\n",
       "    </tr>\n",
       "  </thead>\n",
       "  <tbody>\n",
       "    <tr>\n",
       "      <th>0</th>\n",
       "      <td>02h 00m</td>\n",
       "    </tr>\n",
       "    <tr>\n",
       "      <th>1</th>\n",
       "      <td>02h 15m</td>\n",
       "    </tr>\n",
       "    <tr>\n",
       "      <th>2</th>\n",
       "      <td>24h 45m</td>\n",
       "    </tr>\n",
       "    <tr>\n",
       "      <th>3</th>\n",
       "      <td>26h 30m</td>\n",
       "    </tr>\n",
       "    <tr>\n",
       "      <th>4</th>\n",
       "      <td>06h 40m</td>\n",
       "    </tr>\n",
       "    <tr>\n",
       "      <th>...</th>\n",
       "      <td>...</td>\n",
       "    </tr>\n",
       "    <tr>\n",
       "      <th>206769</th>\n",
       "      <td>13h 50m</td>\n",
       "    </tr>\n",
       "    <tr>\n",
       "      <th>206770</th>\n",
       "      <td>13h 50m</td>\n",
       "    </tr>\n",
       "    <tr>\n",
       "      <th>206771</th>\n",
       "      <td>20h 35m</td>\n",
       "    </tr>\n",
       "    <tr>\n",
       "      <th>206772</th>\n",
       "      <td>23h 20m</td>\n",
       "    </tr>\n",
       "    <tr>\n",
       "      <th>206773</th>\n",
       "      <td>24h 25m</td>\n",
       "    </tr>\n",
       "  </tbody>\n",
       "</table>\n",
       "<p>300255 rows × 1 columns</p>\n",
       "</div>"
      ],
      "text/plain": [
       "       time_taken\n",
       "0         02h 00m\n",
       "1         02h 15m\n",
       "2         24h 45m\n",
       "3         26h 30m\n",
       "4         06h 40m\n",
       "...           ...\n",
       "206769    13h 50m\n",
       "206770    13h 50m\n",
       "206771    20h 35m\n",
       "206772    23h 20m\n",
       "206773    24h 25m\n",
       "\n",
       "[300255 rows x 1 columns]"
      ]
     },
     "execution_count": 36,
     "metadata": {},
     "output_type": "execute_result"
    }
   ],
   "source": [
    "df[['time_taken']]"
   ]
  },
  {
   "cell_type": "code",
   "execution_count": 37,
   "id": "3828a078",
   "metadata": {},
   "outputs": [],
   "source": [
    "def convert_time_to_minutes(time_str):\n",
    "    hours, minutes = time_str.split('h ')\n",
    "    minutes = int(hours) * 60 + int(minutes[:-1])\n",
    "    return minutes\n",
    "\n",
    "df['time_taken'] = df['time_taken'].apply(convert_time_to_minutes).astype(int)"
   ]
  },
  {
   "cell_type": "code",
   "execution_count": 38,
   "id": "ca559940",
   "metadata": {},
   "outputs": [
    {
     "data": {
      "text/html": [
       "<div>\n",
       "<style scoped>\n",
       "    .dataframe tbody tr th:only-of-type {\n",
       "        vertical-align: middle;\n",
       "    }\n",
       "\n",
       "    .dataframe tbody tr th {\n",
       "        vertical-align: top;\n",
       "    }\n",
       "\n",
       "    .dataframe thead th {\n",
       "        text-align: right;\n",
       "    }\n",
       "</style>\n",
       "<table border=\"1\" class=\"dataframe\">\n",
       "  <thead>\n",
       "    <tr style=\"text-align: right;\">\n",
       "      <th></th>\n",
       "      <th>time_taken</th>\n",
       "    </tr>\n",
       "  </thead>\n",
       "  <tbody>\n",
       "    <tr>\n",
       "      <th>0</th>\n",
       "      <td>120</td>\n",
       "    </tr>\n",
       "    <tr>\n",
       "      <th>1</th>\n",
       "      <td>135</td>\n",
       "    </tr>\n",
       "    <tr>\n",
       "      <th>2</th>\n",
       "      <td>1485</td>\n",
       "    </tr>\n",
       "    <tr>\n",
       "      <th>3</th>\n",
       "      <td>1590</td>\n",
       "    </tr>\n",
       "    <tr>\n",
       "      <th>4</th>\n",
       "      <td>400</td>\n",
       "    </tr>\n",
       "    <tr>\n",
       "      <th>...</th>\n",
       "      <td>...</td>\n",
       "    </tr>\n",
       "    <tr>\n",
       "      <th>206769</th>\n",
       "      <td>830</td>\n",
       "    </tr>\n",
       "    <tr>\n",
       "      <th>206770</th>\n",
       "      <td>830</td>\n",
       "    </tr>\n",
       "    <tr>\n",
       "      <th>206771</th>\n",
       "      <td>1235</td>\n",
       "    </tr>\n",
       "    <tr>\n",
       "      <th>206772</th>\n",
       "      <td>1400</td>\n",
       "    </tr>\n",
       "    <tr>\n",
       "      <th>206773</th>\n",
       "      <td>1465</td>\n",
       "    </tr>\n",
       "  </tbody>\n",
       "</table>\n",
       "<p>300255 rows × 1 columns</p>\n",
       "</div>"
      ],
      "text/plain": [
       "        time_taken\n",
       "0              120\n",
       "1              135\n",
       "2             1485\n",
       "3             1590\n",
       "4              400\n",
       "...            ...\n",
       "206769         830\n",
       "206770         830\n",
       "206771        1235\n",
       "206772        1400\n",
       "206773        1465\n",
       "\n",
       "[300255 rows x 1 columns]"
      ]
     },
     "execution_count": 38,
     "metadata": {},
     "output_type": "execute_result"
    }
   ],
   "source": [
    "df[['time_taken']]"
   ]
  },
  {
   "cell_type": "markdown",
   "id": "c1ce0f4c",
   "metadata": {},
   "source": [
    "## I'll rename 'time_taken' to address the change to total minutes:"
   ]
  },
  {
   "cell_type": "code",
   "execution_count": 39,
   "id": "895602d0",
   "metadata": {},
   "outputs": [],
   "source": [
    "df = df.rename(columns={'time_taken': 'time_taken_mins'})"
   ]
  },
  {
   "cell_type": "code",
   "execution_count": 40,
   "id": "36698e40",
   "metadata": {},
   "outputs": [
    {
     "data": {
      "text/html": [
       "<div>\n",
       "<style scoped>\n",
       "    .dataframe tbody tr th:only-of-type {\n",
       "        vertical-align: middle;\n",
       "    }\n",
       "\n",
       "    .dataframe tbody tr th {\n",
       "        vertical-align: top;\n",
       "    }\n",
       "\n",
       "    .dataframe thead th {\n",
       "        text-align: right;\n",
       "    }\n",
       "</style>\n",
       "<table border=\"1\" class=\"dataframe\">\n",
       "  <thead>\n",
       "    <tr style=\"text-align: right;\">\n",
       "      <th></th>\n",
       "      <th>date</th>\n",
       "      <th>airline</th>\n",
       "      <th>ch_code</th>\n",
       "      <th>num_code</th>\n",
       "      <th>dep_time</th>\n",
       "      <th>from</th>\n",
       "      <th>time_taken_mins</th>\n",
       "      <th>stop</th>\n",
       "      <th>arr_time</th>\n",
       "      <th>to</th>\n",
       "      <th>price</th>\n",
       "      <th>class</th>\n",
       "    </tr>\n",
       "  </thead>\n",
       "  <tbody>\n",
       "    <tr>\n",
       "      <th>0</th>\n",
       "      <td>11-02-2022</td>\n",
       "      <td>Air India</td>\n",
       "      <td>AI</td>\n",
       "      <td>868</td>\n",
       "      <td>18:00</td>\n",
       "      <td>Delhi</td>\n",
       "      <td>120</td>\n",
       "      <td>non-stop</td>\n",
       "      <td>20:00</td>\n",
       "      <td>Mumbai</td>\n",
       "      <td>25612</td>\n",
       "      <td>business</td>\n",
       "    </tr>\n",
       "    <tr>\n",
       "      <th>1</th>\n",
       "      <td>11-02-2022</td>\n",
       "      <td>Air India</td>\n",
       "      <td>AI</td>\n",
       "      <td>624</td>\n",
       "      <td>19:00</td>\n",
       "      <td>Delhi</td>\n",
       "      <td>135</td>\n",
       "      <td>non-stop</td>\n",
       "      <td>21:15</td>\n",
       "      <td>Mumbai</td>\n",
       "      <td>25612</td>\n",
       "      <td>business</td>\n",
       "    </tr>\n",
       "    <tr>\n",
       "      <th>2</th>\n",
       "      <td>11-02-2022</td>\n",
       "      <td>Air India</td>\n",
       "      <td>AI</td>\n",
       "      <td>531</td>\n",
       "      <td>20:00</td>\n",
       "      <td>Delhi</td>\n",
       "      <td>1485</td>\n",
       "      <td>1-stop</td>\n",
       "      <td>20:45</td>\n",
       "      <td>Mumbai</td>\n",
       "      <td>42220</td>\n",
       "      <td>business</td>\n",
       "    </tr>\n",
       "    <tr>\n",
       "      <th>3</th>\n",
       "      <td>11-02-2022</td>\n",
       "      <td>Air India</td>\n",
       "      <td>AI</td>\n",
       "      <td>839</td>\n",
       "      <td>21:25</td>\n",
       "      <td>Delhi</td>\n",
       "      <td>1590</td>\n",
       "      <td>1-stop</td>\n",
       "      <td>23:55</td>\n",
       "      <td>Mumbai</td>\n",
       "      <td>44450</td>\n",
       "      <td>business</td>\n",
       "    </tr>\n",
       "    <tr>\n",
       "      <th>4</th>\n",
       "      <td>11-02-2022</td>\n",
       "      <td>Air India</td>\n",
       "      <td>AI</td>\n",
       "      <td>544</td>\n",
       "      <td>17:15</td>\n",
       "      <td>Delhi</td>\n",
       "      <td>400</td>\n",
       "      <td>1-stop</td>\n",
       "      <td>23:55</td>\n",
       "      <td>Mumbai</td>\n",
       "      <td>46690</td>\n",
       "      <td>business</td>\n",
       "    </tr>\n",
       "  </tbody>\n",
       "</table>\n",
       "</div>"
      ],
      "text/plain": [
       "         date    airline ch_code  num_code dep_time   from  time_taken_mins  \\\n",
       "0  11-02-2022  Air India      AI       868    18:00  Delhi              120   \n",
       "1  11-02-2022  Air India      AI       624    19:00  Delhi              135   \n",
       "2  11-02-2022  Air India      AI       531    20:00  Delhi             1485   \n",
       "3  11-02-2022  Air India      AI       839    21:25  Delhi             1590   \n",
       "4  11-02-2022  Air India      AI       544    17:15  Delhi              400   \n",
       "\n",
       "       stop arr_time      to  price     class  \n",
       "0  non-stop    20:00  Mumbai  25612  business  \n",
       "1  non-stop    21:15  Mumbai  25612  business  \n",
       "2    1-stop    20:45  Mumbai  42220  business  \n",
       "3    1-stop    23:55  Mumbai  44450  business  \n",
       "4    1-stop    23:55  Mumbai  46690  business  "
      ]
     },
     "execution_count": 40,
     "metadata": {},
     "output_type": "execute_result"
    }
   ],
   "source": [
    "df.head()"
   ]
  },
  {
   "cell_type": "code",
   "execution_count": 41,
   "id": "c4dc95cc",
   "metadata": {},
   "outputs": [
    {
     "data": {
      "text/plain": [
       "Vistara      127859\n",
       "Air India     80892\n",
       "Indigo        43120\n",
       "GO FIRST      23173\n",
       "AirAsia       16098\n",
       "SpiceJet       9011\n",
       "StarAir          61\n",
       "Trujet           41\n",
       "Name: airline, dtype: int64"
      ]
     },
     "execution_count": 41,
     "metadata": {},
     "output_type": "execute_result"
    }
   ],
   "source": [
    "df['airline'].value_counts()"
   ]
  },
  {
   "cell_type": "code",
   "execution_count": 42,
   "id": "5ff5dd73",
   "metadata": {},
   "outputs": [
    {
     "data": {
      "text/plain": [
       "UK    127859\n",
       "AI     80892\n",
       "6E     43120\n",
       "G8     23173\n",
       "I5     16098\n",
       "SG      9011\n",
       "S5        61\n",
       "2T        41\n",
       "Name: ch_code, dtype: int64"
      ]
     },
     "execution_count": 42,
     "metadata": {},
     "output_type": "execute_result"
    }
   ],
   "source": [
    "df['ch_code'].value_counts()"
   ]
  },
  {
   "cell_type": "markdown",
   "id": "7adbf8b7",
   "metadata": {},
   "source": [
    "## I'm going to drop ch_code. It is redundant:"
   ]
  },
  {
   "cell_type": "code",
   "execution_count": 43,
   "id": "6c47de3d",
   "metadata": {},
   "outputs": [
    {
     "data": {
      "text/html": [
       "<div>\n",
       "<style scoped>\n",
       "    .dataframe tbody tr th:only-of-type {\n",
       "        vertical-align: middle;\n",
       "    }\n",
       "\n",
       "    .dataframe tbody tr th {\n",
       "        vertical-align: top;\n",
       "    }\n",
       "\n",
       "    .dataframe thead th {\n",
       "        text-align: right;\n",
       "    }\n",
       "</style>\n",
       "<table border=\"1\" class=\"dataframe\">\n",
       "  <thead>\n",
       "    <tr style=\"text-align: right;\">\n",
       "      <th></th>\n",
       "      <th>date</th>\n",
       "      <th>airline</th>\n",
       "      <th>num_code</th>\n",
       "      <th>dep_time</th>\n",
       "      <th>from</th>\n",
       "      <th>time_taken_mins</th>\n",
       "      <th>stop</th>\n",
       "      <th>arr_time</th>\n",
       "      <th>to</th>\n",
       "      <th>price</th>\n",
       "      <th>class</th>\n",
       "    </tr>\n",
       "  </thead>\n",
       "  <tbody>\n",
       "    <tr>\n",
       "      <th>0</th>\n",
       "      <td>11-02-2022</td>\n",
       "      <td>Air India</td>\n",
       "      <td>868</td>\n",
       "      <td>18:00</td>\n",
       "      <td>Delhi</td>\n",
       "      <td>120</td>\n",
       "      <td>non-stop</td>\n",
       "      <td>20:00</td>\n",
       "      <td>Mumbai</td>\n",
       "      <td>25612</td>\n",
       "      <td>business</td>\n",
       "    </tr>\n",
       "    <tr>\n",
       "      <th>1</th>\n",
       "      <td>11-02-2022</td>\n",
       "      <td>Air India</td>\n",
       "      <td>624</td>\n",
       "      <td>19:00</td>\n",
       "      <td>Delhi</td>\n",
       "      <td>135</td>\n",
       "      <td>non-stop</td>\n",
       "      <td>21:15</td>\n",
       "      <td>Mumbai</td>\n",
       "      <td>25612</td>\n",
       "      <td>business</td>\n",
       "    </tr>\n",
       "    <tr>\n",
       "      <th>2</th>\n",
       "      <td>11-02-2022</td>\n",
       "      <td>Air India</td>\n",
       "      <td>531</td>\n",
       "      <td>20:00</td>\n",
       "      <td>Delhi</td>\n",
       "      <td>1485</td>\n",
       "      <td>1-stop</td>\n",
       "      <td>20:45</td>\n",
       "      <td>Mumbai</td>\n",
       "      <td>42220</td>\n",
       "      <td>business</td>\n",
       "    </tr>\n",
       "    <tr>\n",
       "      <th>3</th>\n",
       "      <td>11-02-2022</td>\n",
       "      <td>Air India</td>\n",
       "      <td>839</td>\n",
       "      <td>21:25</td>\n",
       "      <td>Delhi</td>\n",
       "      <td>1590</td>\n",
       "      <td>1-stop</td>\n",
       "      <td>23:55</td>\n",
       "      <td>Mumbai</td>\n",
       "      <td>44450</td>\n",
       "      <td>business</td>\n",
       "    </tr>\n",
       "    <tr>\n",
       "      <th>4</th>\n",
       "      <td>11-02-2022</td>\n",
       "      <td>Air India</td>\n",
       "      <td>544</td>\n",
       "      <td>17:15</td>\n",
       "      <td>Delhi</td>\n",
       "      <td>400</td>\n",
       "      <td>1-stop</td>\n",
       "      <td>23:55</td>\n",
       "      <td>Mumbai</td>\n",
       "      <td>46690</td>\n",
       "      <td>business</td>\n",
       "    </tr>\n",
       "    <tr>\n",
       "      <th>5</th>\n",
       "      <td>11-02-2022</td>\n",
       "      <td>Vistara</td>\n",
       "      <td>985</td>\n",
       "      <td>19:50</td>\n",
       "      <td>Delhi</td>\n",
       "      <td>130</td>\n",
       "      <td>non-stop</td>\n",
       "      <td>22:00</td>\n",
       "      <td>Mumbai</td>\n",
       "      <td>50264</td>\n",
       "      <td>business</td>\n",
       "    </tr>\n",
       "    <tr>\n",
       "      <th>6</th>\n",
       "      <td>11-02-2022</td>\n",
       "      <td>Air India</td>\n",
       "      <td>479</td>\n",
       "      <td>21:15</td>\n",
       "      <td>Delhi</td>\n",
       "      <td>1065</td>\n",
       "      <td>1-stop</td>\n",
       "      <td>15:00</td>\n",
       "      <td>Mumbai</td>\n",
       "      <td>50669</td>\n",
       "      <td>business</td>\n",
       "    </tr>\n",
       "    <tr>\n",
       "      <th>7</th>\n",
       "      <td>11-02-2022</td>\n",
       "      <td>Air India</td>\n",
       "      <td>473</td>\n",
       "      <td>18:40</td>\n",
       "      <td>Delhi</td>\n",
       "      <td>1365</td>\n",
       "      <td>1-stop</td>\n",
       "      <td>17:25</td>\n",
       "      <td>Mumbai</td>\n",
       "      <td>51059</td>\n",
       "      <td>business</td>\n",
       "    </tr>\n",
       "    <tr>\n",
       "      <th>8</th>\n",
       "      <td>11-02-2022</td>\n",
       "      <td>Vistara</td>\n",
       "      <td>871</td>\n",
       "      <td>20:35</td>\n",
       "      <td>Delhi</td>\n",
       "      <td>1075</td>\n",
       "      <td>1-stop</td>\n",
       "      <td>14:30</td>\n",
       "      <td>Mumbai</td>\n",
       "      <td>51731</td>\n",
       "      <td>business</td>\n",
       "    </tr>\n",
       "    <tr>\n",
       "      <th>9</th>\n",
       "      <td>11-02-2022</td>\n",
       "      <td>Vistara</td>\n",
       "      <td>977</td>\n",
       "      <td>19:00</td>\n",
       "      <td>Delhi</td>\n",
       "      <td>135</td>\n",
       "      <td>non-stop</td>\n",
       "      <td>21:15</td>\n",
       "      <td>Mumbai</td>\n",
       "      <td>53288</td>\n",
       "      <td>business</td>\n",
       "    </tr>\n",
       "  </tbody>\n",
       "</table>\n",
       "</div>"
      ],
      "text/plain": [
       "         date    airline  num_code dep_time   from  time_taken_mins      stop  \\\n",
       "0  11-02-2022  Air India       868    18:00  Delhi              120  non-stop   \n",
       "1  11-02-2022  Air India       624    19:00  Delhi              135  non-stop   \n",
       "2  11-02-2022  Air India       531    20:00  Delhi             1485    1-stop   \n",
       "3  11-02-2022  Air India       839    21:25  Delhi             1590    1-stop   \n",
       "4  11-02-2022  Air India       544    17:15  Delhi              400    1-stop   \n",
       "5  11-02-2022    Vistara       985    19:50  Delhi              130  non-stop   \n",
       "6  11-02-2022  Air India       479    21:15  Delhi             1065    1-stop   \n",
       "7  11-02-2022  Air India       473    18:40  Delhi             1365    1-stop   \n",
       "8  11-02-2022    Vistara       871    20:35  Delhi             1075    1-stop   \n",
       "9  11-02-2022    Vistara       977    19:00  Delhi              135  non-stop   \n",
       "\n",
       "  arr_time      to  price     class  \n",
       "0    20:00  Mumbai  25612  business  \n",
       "1    21:15  Mumbai  25612  business  \n",
       "2    20:45  Mumbai  42220  business  \n",
       "3    23:55  Mumbai  44450  business  \n",
       "4    23:55  Mumbai  46690  business  \n",
       "5    22:00  Mumbai  50264  business  \n",
       "6    15:00  Mumbai  50669  business  \n",
       "7    17:25  Mumbai  51059  business  \n",
       "8    14:30  Mumbai  51731  business  \n",
       "9    21:15  Mumbai  53288  business  "
      ]
     },
     "execution_count": 43,
     "metadata": {},
     "output_type": "execute_result"
    }
   ],
   "source": [
    "df = df.drop('ch_code', axis=1)\n",
    "\n",
    "df.head(10)"
   ]
  },
  {
   "cell_type": "markdown",
   "id": "4c7824db",
   "metadata": {},
   "source": [
    "## There are too many distinct values for departure time, so I'll categorize them into 5 categories that represent the time of day for the flights:"
   ]
  },
  {
   "cell_type": "code",
   "execution_count": 44,
   "id": "f6717d15",
   "metadata": {},
   "outputs": [
    {
     "data": {
      "text/plain": [
       "07:00    8760\n",
       "10:25    7693\n",
       "19:00    5738\n",
       "09:45    5468\n",
       "08:30    4955\n",
       "         ... \n",
       "03:30      18\n",
       "22:05      18\n",
       "00:15      15\n",
       "00:45      12\n",
       "04:15       5\n",
       "Name: dep_time, Length: 251, dtype: int64"
      ]
     },
     "execution_count": 44,
     "metadata": {},
     "output_type": "execute_result"
    }
   ],
   "source": [
    "df['dep_time'].value_counts()"
   ]
  },
  {
   "cell_type": "code",
   "execution_count": 45,
   "id": "a0869f7d",
   "metadata": {},
   "outputs": [],
   "source": [
    "df['dept_time'] = pd.cut(pd.to_datetime(df['dep_time'], format='%H:%M').dt.hour,\n",
    "                           bins=[0, 4, 8, 12, 17, 24],\n",
    "                           labels=['late night', 'early morning', 'morning', 'afternoon', 'night'],\n",
    "                          ordered=False)"
   ]
  },
  {
   "cell_type": "code",
   "execution_count": 46,
   "id": "e6f44c70",
   "metadata": {},
   "outputs": [
    {
     "data": {
      "text/plain": [
       "night            82615\n",
       "early morning    76419\n",
       "morning          72054\n",
       "afternoon        65557\n",
       "late night        3307\n",
       "Name: dept_time, dtype: int64"
      ]
     },
     "execution_count": 46,
     "metadata": {},
     "output_type": "execute_result"
    }
   ],
   "source": [
    "df['dept_time'].value_counts()"
   ]
  },
  {
   "cell_type": "code",
   "execution_count": 47,
   "id": "5f3fd11e",
   "metadata": {},
   "outputs": [
    {
     "data": {
      "text/plain": [
       "date                 0\n",
       "airline              0\n",
       "num_code             0\n",
       "dep_time             0\n",
       "from                 0\n",
       "time_taken_mins      0\n",
       "stop                 0\n",
       "arr_time             0\n",
       "to                   0\n",
       "price                0\n",
       "class                0\n",
       "dept_time          303\n",
       "dtype: int64"
      ]
     },
     "execution_count": 47,
     "metadata": {},
     "output_type": "execute_result"
    }
   ],
   "source": [
    "df.isnull().sum()"
   ]
  },
  {
   "cell_type": "markdown",
   "id": "47de6a55",
   "metadata": {},
   "source": [
    "## I believe some of the times in the dataframe didn't convert to the categories correctly. \n",
    "\n",
    "## For sake of time and the fact it's only a very small percentage of the total rows, I will remove them:"
   ]
  },
  {
   "cell_type": "code",
   "execution_count": 48,
   "id": "82b00322",
   "metadata": {},
   "outputs": [
    {
     "data": {
      "text/plain": [
       "date               0\n",
       "airline            0\n",
       "num_code           0\n",
       "dep_time           0\n",
       "from               0\n",
       "time_taken_mins    0\n",
       "stop               0\n",
       "arr_time           0\n",
       "to                 0\n",
       "price              0\n",
       "class              0\n",
       "dept_time          0\n",
       "dtype: int64"
      ]
     },
     "execution_count": 48,
     "metadata": {},
     "output_type": "execute_result"
    }
   ],
   "source": [
    "df.dropna(subset=['dept_time'], inplace=True)\n",
    "\n",
    "df.isnull().sum()"
   ]
  },
  {
   "cell_type": "markdown",
   "id": "d3ff937a",
   "metadata": {},
   "source": [
    "## Won't be needing dep_time:"
   ]
  },
  {
   "cell_type": "code",
   "execution_count": 49,
   "id": "6b657989",
   "metadata": {},
   "outputs": [
    {
     "data": {
      "text/html": [
       "<div>\n",
       "<style scoped>\n",
       "    .dataframe tbody tr th:only-of-type {\n",
       "        vertical-align: middle;\n",
       "    }\n",
       "\n",
       "    .dataframe tbody tr th {\n",
       "        vertical-align: top;\n",
       "    }\n",
       "\n",
       "    .dataframe thead th {\n",
       "        text-align: right;\n",
       "    }\n",
       "</style>\n",
       "<table border=\"1\" class=\"dataframe\">\n",
       "  <thead>\n",
       "    <tr style=\"text-align: right;\">\n",
       "      <th></th>\n",
       "      <th>date</th>\n",
       "      <th>airline</th>\n",
       "      <th>num_code</th>\n",
       "      <th>from</th>\n",
       "      <th>time_taken_mins</th>\n",
       "      <th>stop</th>\n",
       "      <th>arr_time</th>\n",
       "      <th>to</th>\n",
       "      <th>price</th>\n",
       "      <th>class</th>\n",
       "      <th>dept_time</th>\n",
       "    </tr>\n",
       "  </thead>\n",
       "  <tbody>\n",
       "    <tr>\n",
       "      <th>0</th>\n",
       "      <td>11-02-2022</td>\n",
       "      <td>Air India</td>\n",
       "      <td>868</td>\n",
       "      <td>Delhi</td>\n",
       "      <td>120</td>\n",
       "      <td>non-stop</td>\n",
       "      <td>20:00</td>\n",
       "      <td>Mumbai</td>\n",
       "      <td>25612</td>\n",
       "      <td>business</td>\n",
       "      <td>night</td>\n",
       "    </tr>\n",
       "    <tr>\n",
       "      <th>1</th>\n",
       "      <td>11-02-2022</td>\n",
       "      <td>Air India</td>\n",
       "      <td>624</td>\n",
       "      <td>Delhi</td>\n",
       "      <td>135</td>\n",
       "      <td>non-stop</td>\n",
       "      <td>21:15</td>\n",
       "      <td>Mumbai</td>\n",
       "      <td>25612</td>\n",
       "      <td>business</td>\n",
       "      <td>night</td>\n",
       "    </tr>\n",
       "    <tr>\n",
       "      <th>2</th>\n",
       "      <td>11-02-2022</td>\n",
       "      <td>Air India</td>\n",
       "      <td>531</td>\n",
       "      <td>Delhi</td>\n",
       "      <td>1485</td>\n",
       "      <td>1-stop</td>\n",
       "      <td>20:45</td>\n",
       "      <td>Mumbai</td>\n",
       "      <td>42220</td>\n",
       "      <td>business</td>\n",
       "      <td>night</td>\n",
       "    </tr>\n",
       "    <tr>\n",
       "      <th>3</th>\n",
       "      <td>11-02-2022</td>\n",
       "      <td>Air India</td>\n",
       "      <td>839</td>\n",
       "      <td>Delhi</td>\n",
       "      <td>1590</td>\n",
       "      <td>1-stop</td>\n",
       "      <td>23:55</td>\n",
       "      <td>Mumbai</td>\n",
       "      <td>44450</td>\n",
       "      <td>business</td>\n",
       "      <td>night</td>\n",
       "    </tr>\n",
       "    <tr>\n",
       "      <th>4</th>\n",
       "      <td>11-02-2022</td>\n",
       "      <td>Air India</td>\n",
       "      <td>544</td>\n",
       "      <td>Delhi</td>\n",
       "      <td>400</td>\n",
       "      <td>1-stop</td>\n",
       "      <td>23:55</td>\n",
       "      <td>Mumbai</td>\n",
       "      <td>46690</td>\n",
       "      <td>business</td>\n",
       "      <td>afternoon</td>\n",
       "    </tr>\n",
       "  </tbody>\n",
       "</table>\n",
       "</div>"
      ],
      "text/plain": [
       "         date    airline  num_code   from  time_taken_mins      stop arr_time  \\\n",
       "0  11-02-2022  Air India       868  Delhi              120  non-stop    20:00   \n",
       "1  11-02-2022  Air India       624  Delhi              135  non-stop    21:15   \n",
       "2  11-02-2022  Air India       531  Delhi             1485    1-stop    20:45   \n",
       "3  11-02-2022  Air India       839  Delhi             1590    1-stop    23:55   \n",
       "4  11-02-2022  Air India       544  Delhi              400    1-stop    23:55   \n",
       "\n",
       "       to  price     class  dept_time  \n",
       "0  Mumbai  25612  business      night  \n",
       "1  Mumbai  25612  business      night  \n",
       "2  Mumbai  42220  business      night  \n",
       "3  Mumbai  44450  business      night  \n",
       "4  Mumbai  46690  business  afternoon  "
      ]
     },
     "execution_count": 49,
     "metadata": {},
     "output_type": "execute_result"
    }
   ],
   "source": [
    "df = df.drop('dep_time', axis=1)\n",
    "df.head()"
   ]
  },
  {
   "cell_type": "markdown",
   "id": "ecaffa0a",
   "metadata": {},
   "source": [
    "## Now that I've cleaned the data, I'm ready to export it as a CSV so I can perform visualizations in Power BI. \n",
    "\n",
    "## I'll save the CSV to my desktop:"
   ]
  },
  {
   "cell_type": "code",
   "execution_count": 50,
   "id": "3848f627",
   "metadata": {},
   "outputs": [],
   "source": [
    "# import os"
   ]
  },
  {
   "cell_type": "code",
   "execution_count": 51,
   "id": "7061def1",
   "metadata": {},
   "outputs": [],
   "source": [
    "# filename = 'cleaned_flights_2.csv'\n",
    "\n",
    "# desktop_path = os.path.join(os.path.join(os.environ['USERPROFILE']), 'Desktop')\n",
    "# file_path = os.path.join(desktop_path, filename)\n",
    "\n",
    "# df.to_csv(file_path, index=False)\n",
    "\n",
    "# print(f'{filename} exported successfully to desktop!')"
   ]
  },
  {
   "cell_type": "markdown",
   "id": "633f1973",
   "metadata": {},
   "source": [
    "## Before I do some price prediction and fit a model, I need to create dummy variables for anything categorical that I want to use:"
   ]
  },
  {
   "cell_type": "code",
   "execution_count": 52,
   "id": "5a1e2985",
   "metadata": {},
   "outputs": [
    {
     "data": {
      "text/plain": [
       "07-03-2022    6626\n",
       "28-02-2022    6597\n",
       "21-03-2022    6587\n",
       "14-03-2022    6579\n",
       "08-03-2022    6570\n",
       "06-03-2022    6536\n",
       "01-03-2022    6534\n",
       "15-03-2022    6529\n",
       "13-03-2022    6528\n",
       "22-03-2022    6528\n",
       "10-03-2022    6520\n",
       "23-03-2022    6519\n",
       "20-03-2022    6506\n",
       "12-03-2022    6498\n",
       "24-03-2022    6496\n",
       "02-03-2022    6495\n",
       "04-03-2022    6488\n",
       "18-03-2022    6484\n",
       "03-03-2022    6476\n",
       "19-03-2022    6473\n",
       "25-03-2022    6466\n",
       "26-03-2022    6433\n",
       "21-02-2022    6415\n",
       "27-02-2022    6413\n",
       "16-03-2022    6405\n",
       "05-03-2022    6398\n",
       "23-02-2022    6397\n",
       "11-03-2022    6391\n",
       "22-02-2022    6378\n",
       "09-03-2022    6354\n",
       "24-02-2022    6346\n",
       "25-02-2022    6335\n",
       "27-03-2022    6305\n",
       "17-03-2022    6289\n",
       "26-02-2022    6269\n",
       "28-03-2022    6148\n",
       "31-03-2022    6145\n",
       "30-03-2022    6066\n",
       "29-03-2022    6060\n",
       "20-02-2022    5820\n",
       "18-02-2022    5765\n",
       "16-02-2022    5738\n",
       "17-02-2022    5700\n",
       "19-02-2022    5666\n",
       "15-02-2022    5395\n",
       "14-02-2022    5078\n",
       "13-02-2022    4250\n",
       "12-02-2022    4031\n",
       "11-02-2022    1927\n",
       "Name: date, dtype: int64"
      ]
     },
     "execution_count": 52,
     "metadata": {},
     "output_type": "execute_result"
    }
   ],
   "source": [
    "df['date'].value_counts()"
   ]
  },
  {
   "cell_type": "markdown",
   "id": "876f923a",
   "metadata": {},
   "source": [
    "## I notice there are only flights for months February and March. I'll create 2 new binary columns that tell me if a flight is in that month:"
   ]
  },
  {
   "cell_type": "code",
   "execution_count": 53,
   "id": "8b038f67",
   "metadata": {},
   "outputs": [],
   "source": [
    "df['date'] = pd.to_datetime(df['date'], format='%d-%m-%Y')\n",
    "\n",
    "df['in_February'] = (df['date'].dt.month == 2).astype(int)\n",
    "df['in_March'] = (df['date'].dt.month == 3).astype(int)"
   ]
  },
  {
   "cell_type": "markdown",
   "id": "c5d2d38a",
   "metadata": {},
   "source": [
    "## Now I don't need the date column:"
   ]
  },
  {
   "cell_type": "code",
   "execution_count": 54,
   "id": "1671baca",
   "metadata": {},
   "outputs": [
    {
     "data": {
      "text/html": [
       "<div>\n",
       "<style scoped>\n",
       "    .dataframe tbody tr th:only-of-type {\n",
       "        vertical-align: middle;\n",
       "    }\n",
       "\n",
       "    .dataframe tbody tr th {\n",
       "        vertical-align: top;\n",
       "    }\n",
       "\n",
       "    .dataframe thead th {\n",
       "        text-align: right;\n",
       "    }\n",
       "</style>\n",
       "<table border=\"1\" class=\"dataframe\">\n",
       "  <thead>\n",
       "    <tr style=\"text-align: right;\">\n",
       "      <th></th>\n",
       "      <th>airline</th>\n",
       "      <th>num_code</th>\n",
       "      <th>from</th>\n",
       "      <th>time_taken_mins</th>\n",
       "      <th>stop</th>\n",
       "      <th>arr_time</th>\n",
       "      <th>to</th>\n",
       "      <th>price</th>\n",
       "      <th>class</th>\n",
       "      <th>dept_time</th>\n",
       "      <th>in_February</th>\n",
       "      <th>in_March</th>\n",
       "    </tr>\n",
       "  </thead>\n",
       "  <tbody>\n",
       "    <tr>\n",
       "      <th>0</th>\n",
       "      <td>Air India</td>\n",
       "      <td>868</td>\n",
       "      <td>Delhi</td>\n",
       "      <td>120</td>\n",
       "      <td>non-stop</td>\n",
       "      <td>20:00</td>\n",
       "      <td>Mumbai</td>\n",
       "      <td>25612</td>\n",
       "      <td>business</td>\n",
       "      <td>night</td>\n",
       "      <td>1</td>\n",
       "      <td>0</td>\n",
       "    </tr>\n",
       "    <tr>\n",
       "      <th>1</th>\n",
       "      <td>Air India</td>\n",
       "      <td>624</td>\n",
       "      <td>Delhi</td>\n",
       "      <td>135</td>\n",
       "      <td>non-stop</td>\n",
       "      <td>21:15</td>\n",
       "      <td>Mumbai</td>\n",
       "      <td>25612</td>\n",
       "      <td>business</td>\n",
       "      <td>night</td>\n",
       "      <td>1</td>\n",
       "      <td>0</td>\n",
       "    </tr>\n",
       "    <tr>\n",
       "      <th>2</th>\n",
       "      <td>Air India</td>\n",
       "      <td>531</td>\n",
       "      <td>Delhi</td>\n",
       "      <td>1485</td>\n",
       "      <td>1-stop</td>\n",
       "      <td>20:45</td>\n",
       "      <td>Mumbai</td>\n",
       "      <td>42220</td>\n",
       "      <td>business</td>\n",
       "      <td>night</td>\n",
       "      <td>1</td>\n",
       "      <td>0</td>\n",
       "    </tr>\n",
       "    <tr>\n",
       "      <th>3</th>\n",
       "      <td>Air India</td>\n",
       "      <td>839</td>\n",
       "      <td>Delhi</td>\n",
       "      <td>1590</td>\n",
       "      <td>1-stop</td>\n",
       "      <td>23:55</td>\n",
       "      <td>Mumbai</td>\n",
       "      <td>44450</td>\n",
       "      <td>business</td>\n",
       "      <td>night</td>\n",
       "      <td>1</td>\n",
       "      <td>0</td>\n",
       "    </tr>\n",
       "    <tr>\n",
       "      <th>4</th>\n",
       "      <td>Air India</td>\n",
       "      <td>544</td>\n",
       "      <td>Delhi</td>\n",
       "      <td>400</td>\n",
       "      <td>1-stop</td>\n",
       "      <td>23:55</td>\n",
       "      <td>Mumbai</td>\n",
       "      <td>46690</td>\n",
       "      <td>business</td>\n",
       "      <td>afternoon</td>\n",
       "      <td>1</td>\n",
       "      <td>0</td>\n",
       "    </tr>\n",
       "  </tbody>\n",
       "</table>\n",
       "</div>"
      ],
      "text/plain": [
       "     airline  num_code   from  time_taken_mins      stop arr_time      to  \\\n",
       "0  Air India       868  Delhi              120  non-stop    20:00  Mumbai   \n",
       "1  Air India       624  Delhi              135  non-stop    21:15  Mumbai   \n",
       "2  Air India       531  Delhi             1485    1-stop    20:45  Mumbai   \n",
       "3  Air India       839  Delhi             1590    1-stop    23:55  Mumbai   \n",
       "4  Air India       544  Delhi              400    1-stop    23:55  Mumbai   \n",
       "\n",
       "   price     class  dept_time  in_February  in_March  \n",
       "0  25612  business      night            1         0  \n",
       "1  25612  business      night            1         0  \n",
       "2  42220  business      night            1         0  \n",
       "3  44450  business      night            1         0  \n",
       "4  46690  business  afternoon            1         0  "
      ]
     },
     "execution_count": 54,
     "metadata": {},
     "output_type": "execute_result"
    }
   ],
   "source": [
    "df = df.drop('date', axis=1)\n",
    "\n",
    "df.head()"
   ]
  },
  {
   "cell_type": "markdown",
   "id": "c3cbb89f",
   "metadata": {},
   "source": [
    "## I don't need arrival time nor num_code. Let's drop them:"
   ]
  },
  {
   "cell_type": "code",
   "execution_count": 55,
   "id": "d918fdd4",
   "metadata": {},
   "outputs": [
    {
     "data": {
      "text/html": [
       "<div>\n",
       "<style scoped>\n",
       "    .dataframe tbody tr th:only-of-type {\n",
       "        vertical-align: middle;\n",
       "    }\n",
       "\n",
       "    .dataframe tbody tr th {\n",
       "        vertical-align: top;\n",
       "    }\n",
       "\n",
       "    .dataframe thead th {\n",
       "        text-align: right;\n",
       "    }\n",
       "</style>\n",
       "<table border=\"1\" class=\"dataframe\">\n",
       "  <thead>\n",
       "    <tr style=\"text-align: right;\">\n",
       "      <th></th>\n",
       "      <th>airline</th>\n",
       "      <th>from</th>\n",
       "      <th>time_taken_mins</th>\n",
       "      <th>stop</th>\n",
       "      <th>to</th>\n",
       "      <th>price</th>\n",
       "      <th>class</th>\n",
       "      <th>dept_time</th>\n",
       "      <th>in_February</th>\n",
       "      <th>in_March</th>\n",
       "    </tr>\n",
       "  </thead>\n",
       "  <tbody>\n",
       "    <tr>\n",
       "      <th>0</th>\n",
       "      <td>Air India</td>\n",
       "      <td>Delhi</td>\n",
       "      <td>120</td>\n",
       "      <td>non-stop</td>\n",
       "      <td>Mumbai</td>\n",
       "      <td>25612</td>\n",
       "      <td>business</td>\n",
       "      <td>night</td>\n",
       "      <td>1</td>\n",
       "      <td>0</td>\n",
       "    </tr>\n",
       "    <tr>\n",
       "      <th>1</th>\n",
       "      <td>Air India</td>\n",
       "      <td>Delhi</td>\n",
       "      <td>135</td>\n",
       "      <td>non-stop</td>\n",
       "      <td>Mumbai</td>\n",
       "      <td>25612</td>\n",
       "      <td>business</td>\n",
       "      <td>night</td>\n",
       "      <td>1</td>\n",
       "      <td>0</td>\n",
       "    </tr>\n",
       "    <tr>\n",
       "      <th>2</th>\n",
       "      <td>Air India</td>\n",
       "      <td>Delhi</td>\n",
       "      <td>1485</td>\n",
       "      <td>1-stop</td>\n",
       "      <td>Mumbai</td>\n",
       "      <td>42220</td>\n",
       "      <td>business</td>\n",
       "      <td>night</td>\n",
       "      <td>1</td>\n",
       "      <td>0</td>\n",
       "    </tr>\n",
       "    <tr>\n",
       "      <th>3</th>\n",
       "      <td>Air India</td>\n",
       "      <td>Delhi</td>\n",
       "      <td>1590</td>\n",
       "      <td>1-stop</td>\n",
       "      <td>Mumbai</td>\n",
       "      <td>44450</td>\n",
       "      <td>business</td>\n",
       "      <td>night</td>\n",
       "      <td>1</td>\n",
       "      <td>0</td>\n",
       "    </tr>\n",
       "    <tr>\n",
       "      <th>4</th>\n",
       "      <td>Air India</td>\n",
       "      <td>Delhi</td>\n",
       "      <td>400</td>\n",
       "      <td>1-stop</td>\n",
       "      <td>Mumbai</td>\n",
       "      <td>46690</td>\n",
       "      <td>business</td>\n",
       "      <td>afternoon</td>\n",
       "      <td>1</td>\n",
       "      <td>0</td>\n",
       "    </tr>\n",
       "  </tbody>\n",
       "</table>\n",
       "</div>"
      ],
      "text/plain": [
       "     airline   from  time_taken_mins      stop      to  price     class  \\\n",
       "0  Air India  Delhi              120  non-stop  Mumbai  25612  business   \n",
       "1  Air India  Delhi              135  non-stop  Mumbai  25612  business   \n",
       "2  Air India  Delhi             1485    1-stop  Mumbai  42220  business   \n",
       "3  Air India  Delhi             1590    1-stop  Mumbai  44450  business   \n",
       "4  Air India  Delhi              400    1-stop  Mumbai  46690  business   \n",
       "\n",
       "   dept_time  in_February  in_March  \n",
       "0      night            1         0  \n",
       "1      night            1         0  \n",
       "2      night            1         0  \n",
       "3      night            1         0  \n",
       "4  afternoon            1         0  "
      ]
     },
     "execution_count": 55,
     "metadata": {},
     "output_type": "execute_result"
    }
   ],
   "source": [
    "df = df.drop('arr_time', axis=1)\n",
    "df = df.drop('num_code', axis=1)\n",
    "\n",
    "df.head()"
   ]
  },
  {
   "cell_type": "code",
   "execution_count": 56,
   "id": "6b4dd9b5",
   "metadata": {},
   "outputs": [
    {
     "data": {
      "text/plain": [
       "Mumbai       59043\n",
       "Delhi        57198\n",
       "Bangalore    51112\n",
       "Kolkata      49456\n",
       "Hyderabad    42775\n",
       "Chennai      40368\n",
       "Name: to, dtype: int64"
      ]
     },
     "execution_count": 56,
     "metadata": {},
     "output_type": "execute_result"
    }
   ],
   "source": [
    "df['to'].value_counts()"
   ]
  },
  {
   "cell_type": "code",
   "execution_count": 57,
   "id": "4e1c194c",
   "metadata": {},
   "outputs": [
    {
     "data": {
      "text/plain": [
       "Delhi        61328\n",
       "Mumbai       60758\n",
       "Bangalore    51960\n",
       "Kolkata      46347\n",
       "Hyderabad    40859\n",
       "Chennai      38700\n",
       "Name: from, dtype: int64"
      ]
     },
     "execution_count": 57,
     "metadata": {},
     "output_type": "execute_result"
    }
   ],
   "source": [
    "df['from'].value_counts()"
   ]
  },
  {
   "cell_type": "code",
   "execution_count": 58,
   "id": "0f0abb7e",
   "metadata": {},
   "outputs": [
    {
     "data": {
      "text/plain": [
       "Vistara      127859\n",
       "Air India     80892\n",
       "Indigo        42960\n",
       "GO FIRST      23173\n",
       "AirAsia       15955\n",
       "SpiceJet       9011\n",
       "StarAir          61\n",
       "Trujet           41\n",
       "Name: airline, dtype: int64"
      ]
     },
     "execution_count": 58,
     "metadata": {},
     "output_type": "execute_result"
    }
   ],
   "source": [
    "df['airline'].value_counts()"
   ]
  },
  {
   "cell_type": "code",
   "execution_count": 59,
   "id": "f772687c",
   "metadata": {},
   "outputs": [
    {
     "data": {
      "text/plain": [
       "economy     206465\n",
       "business     93487\n",
       "Name: class, dtype: int64"
      ]
     },
     "execution_count": 59,
     "metadata": {},
     "output_type": "execute_result"
    }
   ],
   "source": [
    "df['class'].value_counts()"
   ]
  },
  {
   "cell_type": "code",
   "execution_count": 60,
   "id": "a2945891",
   "metadata": {},
   "outputs": [
    {
     "data": {
      "text/plain": [
       "1-stop      250696\n",
       "non-stop     35970\n",
       "2-stops      13286\n",
       "Name: stop, dtype: int64"
      ]
     },
     "execution_count": 60,
     "metadata": {},
     "output_type": "execute_result"
    }
   ],
   "source": [
    "df['stop'].value_counts()"
   ]
  },
  {
   "cell_type": "code",
   "execution_count": 61,
   "id": "f980706b",
   "metadata": {
    "scrolled": true
   },
   "outputs": [
    {
     "data": {
      "text/plain": [
       "night            82615\n",
       "early morning    76419\n",
       "morning          72054\n",
       "afternoon        65557\n",
       "late night        3307\n",
       "Name: dept_time, dtype: int64"
      ]
     },
     "execution_count": 61,
     "metadata": {},
     "output_type": "execute_result"
    }
   ],
   "source": [
    "df['dept_time'].value_counts()"
   ]
  },
  {
   "cell_type": "markdown",
   "id": "ffc29421",
   "metadata": {},
   "source": [
    "## Let's actually make those dummies now:"
   ]
  },
  {
   "cell_type": "code",
   "execution_count": 62,
   "id": "7d5df20f",
   "metadata": {},
   "outputs": [],
   "source": [
    "airline_dummies = pd.get_dummies(df['airline'], prefix='airline')\n",
    "from_dummies = pd.get_dummies(df['from'], prefix='from')\n",
    "stop_dummies = pd.get_dummies(df['stop'], prefix='stop')\n",
    "to_dummies = pd.get_dummies(df['to'], prefix='to')\n",
    "class_dummies = pd.get_dummies(df['class'], prefix='class')\n",
    "dept_time_dummies = pd.get_dummies(df['dept_time'], prefix='dept_time')\n",
    "\n",
    "df = pd.concat([df, airline_dummies, from_dummies, stop_dummies, to_dummies, class_dummies, dept_time_dummies], axis=1)\n",
    "\n",
    "df.drop(['airline', 'from', 'stop', 'to', 'class', 'dept_time'], axis=1, inplace=True)"
   ]
  },
  {
   "cell_type": "code",
   "execution_count": 63,
   "id": "dd4a89b2",
   "metadata": {
    "scrolled": false
   },
   "outputs": [
    {
     "data": {
      "text/html": [
       "<div>\n",
       "<style scoped>\n",
       "    .dataframe tbody tr th:only-of-type {\n",
       "        vertical-align: middle;\n",
       "    }\n",
       "\n",
       "    .dataframe tbody tr th {\n",
       "        vertical-align: top;\n",
       "    }\n",
       "\n",
       "    .dataframe thead th {\n",
       "        text-align: right;\n",
       "    }\n",
       "</style>\n",
       "<table border=\"1\" class=\"dataframe\">\n",
       "  <thead>\n",
       "    <tr style=\"text-align: right;\">\n",
       "      <th></th>\n",
       "      <th>time_taken_mins</th>\n",
       "      <th>price</th>\n",
       "      <th>in_February</th>\n",
       "      <th>in_March</th>\n",
       "      <th>airline_Air India</th>\n",
       "      <th>airline_AirAsia</th>\n",
       "      <th>airline_GO FIRST</th>\n",
       "      <th>airline_Indigo</th>\n",
       "      <th>airline_SpiceJet</th>\n",
       "      <th>airline_StarAir</th>\n",
       "      <th>...</th>\n",
       "      <th>to_Hyderabad</th>\n",
       "      <th>to_Kolkata</th>\n",
       "      <th>to_Mumbai</th>\n",
       "      <th>class_business</th>\n",
       "      <th>class_economy</th>\n",
       "      <th>dept_time_late night</th>\n",
       "      <th>dept_time_early morning</th>\n",
       "      <th>dept_time_morning</th>\n",
       "      <th>dept_time_afternoon</th>\n",
       "      <th>dept_time_night</th>\n",
       "    </tr>\n",
       "  </thead>\n",
       "  <tbody>\n",
       "    <tr>\n",
       "      <th>0</th>\n",
       "      <td>120</td>\n",
       "      <td>25612</td>\n",
       "      <td>1</td>\n",
       "      <td>0</td>\n",
       "      <td>1</td>\n",
       "      <td>0</td>\n",
       "      <td>0</td>\n",
       "      <td>0</td>\n",
       "      <td>0</td>\n",
       "      <td>0</td>\n",
       "      <td>...</td>\n",
       "      <td>0</td>\n",
       "      <td>0</td>\n",
       "      <td>1</td>\n",
       "      <td>1</td>\n",
       "      <td>0</td>\n",
       "      <td>0</td>\n",
       "      <td>0</td>\n",
       "      <td>0</td>\n",
       "      <td>0</td>\n",
       "      <td>1</td>\n",
       "    </tr>\n",
       "    <tr>\n",
       "      <th>1</th>\n",
       "      <td>135</td>\n",
       "      <td>25612</td>\n",
       "      <td>1</td>\n",
       "      <td>0</td>\n",
       "      <td>1</td>\n",
       "      <td>0</td>\n",
       "      <td>0</td>\n",
       "      <td>0</td>\n",
       "      <td>0</td>\n",
       "      <td>0</td>\n",
       "      <td>...</td>\n",
       "      <td>0</td>\n",
       "      <td>0</td>\n",
       "      <td>1</td>\n",
       "      <td>1</td>\n",
       "      <td>0</td>\n",
       "      <td>0</td>\n",
       "      <td>0</td>\n",
       "      <td>0</td>\n",
       "      <td>0</td>\n",
       "      <td>1</td>\n",
       "    </tr>\n",
       "    <tr>\n",
       "      <th>2</th>\n",
       "      <td>1485</td>\n",
       "      <td>42220</td>\n",
       "      <td>1</td>\n",
       "      <td>0</td>\n",
       "      <td>1</td>\n",
       "      <td>0</td>\n",
       "      <td>0</td>\n",
       "      <td>0</td>\n",
       "      <td>0</td>\n",
       "      <td>0</td>\n",
       "      <td>...</td>\n",
       "      <td>0</td>\n",
       "      <td>0</td>\n",
       "      <td>1</td>\n",
       "      <td>1</td>\n",
       "      <td>0</td>\n",
       "      <td>0</td>\n",
       "      <td>0</td>\n",
       "      <td>0</td>\n",
       "      <td>0</td>\n",
       "      <td>1</td>\n",
       "    </tr>\n",
       "    <tr>\n",
       "      <th>3</th>\n",
       "      <td>1590</td>\n",
       "      <td>44450</td>\n",
       "      <td>1</td>\n",
       "      <td>0</td>\n",
       "      <td>1</td>\n",
       "      <td>0</td>\n",
       "      <td>0</td>\n",
       "      <td>0</td>\n",
       "      <td>0</td>\n",
       "      <td>0</td>\n",
       "      <td>...</td>\n",
       "      <td>0</td>\n",
       "      <td>0</td>\n",
       "      <td>1</td>\n",
       "      <td>1</td>\n",
       "      <td>0</td>\n",
       "      <td>0</td>\n",
       "      <td>0</td>\n",
       "      <td>0</td>\n",
       "      <td>0</td>\n",
       "      <td>1</td>\n",
       "    </tr>\n",
       "    <tr>\n",
       "      <th>4</th>\n",
       "      <td>400</td>\n",
       "      <td>46690</td>\n",
       "      <td>1</td>\n",
       "      <td>0</td>\n",
       "      <td>1</td>\n",
       "      <td>0</td>\n",
       "      <td>0</td>\n",
       "      <td>0</td>\n",
       "      <td>0</td>\n",
       "      <td>0</td>\n",
       "      <td>...</td>\n",
       "      <td>0</td>\n",
       "      <td>0</td>\n",
       "      <td>1</td>\n",
       "      <td>1</td>\n",
       "      <td>0</td>\n",
       "      <td>0</td>\n",
       "      <td>0</td>\n",
       "      <td>0</td>\n",
       "      <td>1</td>\n",
       "      <td>0</td>\n",
       "    </tr>\n",
       "  </tbody>\n",
       "</table>\n",
       "<p>5 rows × 34 columns</p>\n",
       "</div>"
      ],
      "text/plain": [
       "   time_taken_mins  price  in_February  in_March  airline_Air India  \\\n",
       "0              120  25612            1         0                  1   \n",
       "1              135  25612            1         0                  1   \n",
       "2             1485  42220            1         0                  1   \n",
       "3             1590  44450            1         0                  1   \n",
       "4              400  46690            1         0                  1   \n",
       "\n",
       "   airline_AirAsia  airline_GO FIRST  airline_Indigo  airline_SpiceJet  \\\n",
       "0                0                 0               0                 0   \n",
       "1                0                 0               0                 0   \n",
       "2                0                 0               0                 0   \n",
       "3                0                 0               0                 0   \n",
       "4                0                 0               0                 0   \n",
       "\n",
       "   airline_StarAir  ...  to_Hyderabad  to_Kolkata  to_Mumbai  class_business  \\\n",
       "0                0  ...             0           0          1               1   \n",
       "1                0  ...             0           0          1               1   \n",
       "2                0  ...             0           0          1               1   \n",
       "3                0  ...             0           0          1               1   \n",
       "4                0  ...             0           0          1               1   \n",
       "\n",
       "   class_economy  dept_time_late night  dept_time_early morning  \\\n",
       "0              0                     0                        0   \n",
       "1              0                     0                        0   \n",
       "2              0                     0                        0   \n",
       "3              0                     0                        0   \n",
       "4              0                     0                        0   \n",
       "\n",
       "   dept_time_morning  dept_time_afternoon  dept_time_night  \n",
       "0                  0                    0                1  \n",
       "1                  0                    0                1  \n",
       "2                  0                    0                1  \n",
       "3                  0                    0                1  \n",
       "4                  0                    1                0  \n",
       "\n",
       "[5 rows x 34 columns]"
      ]
     },
     "execution_count": 63,
     "metadata": {},
     "output_type": "execute_result"
    }
   ],
   "source": [
    "df.head()"
   ]
  },
  {
   "cell_type": "code",
   "execution_count": 64,
   "id": "23f30908",
   "metadata": {},
   "outputs": [
    {
     "data": {
      "text/html": [
       "<div>\n",
       "<style scoped>\n",
       "    .dataframe tbody tr th:only-of-type {\n",
       "        vertical-align: middle;\n",
       "    }\n",
       "\n",
       "    .dataframe tbody tr th {\n",
       "        vertical-align: top;\n",
       "    }\n",
       "\n",
       "    .dataframe thead th {\n",
       "        text-align: right;\n",
       "    }\n",
       "</style>\n",
       "<table border=\"1\" class=\"dataframe\">\n",
       "  <thead>\n",
       "    <tr style=\"text-align: right;\">\n",
       "      <th></th>\n",
       "      <th>time_taken_mins</th>\n",
       "      <th>price</th>\n",
       "      <th>in_February</th>\n",
       "      <th>in_March</th>\n",
       "      <th>airline_Air India</th>\n",
       "      <th>airline_AirAsia</th>\n",
       "      <th>airline_GO FIRST</th>\n",
       "      <th>airline_Indigo</th>\n",
       "      <th>airline_SpiceJet</th>\n",
       "      <th>airline_StarAir</th>\n",
       "      <th>...</th>\n",
       "      <th>to_Hyderabad</th>\n",
       "      <th>to_Kolkata</th>\n",
       "      <th>to_Mumbai</th>\n",
       "      <th>class_business</th>\n",
       "      <th>class_economy</th>\n",
       "      <th>dept_time_late night</th>\n",
       "      <th>dept_time_early morning</th>\n",
       "      <th>dept_time_morning</th>\n",
       "      <th>dept_time_afternoon</th>\n",
       "      <th>dept_time_night</th>\n",
       "    </tr>\n",
       "  </thead>\n",
       "  <tbody>\n",
       "    <tr>\n",
       "      <th>count</th>\n",
       "      <td>299952.000000</td>\n",
       "      <td>299952.000000</td>\n",
       "      <td>299952.000000</td>\n",
       "      <td>299952.000000</td>\n",
       "      <td>299952.000000</td>\n",
       "      <td>299952.000000</td>\n",
       "      <td>299952.000000</td>\n",
       "      <td>299952.000000</td>\n",
       "      <td>299952.000000</td>\n",
       "      <td>299952.000000</td>\n",
       "      <td>...</td>\n",
       "      <td>299952.000000</td>\n",
       "      <td>299952.000000</td>\n",
       "      <td>299952.000000</td>\n",
       "      <td>299952.000000</td>\n",
       "      <td>299952.000000</td>\n",
       "      <td>299952.000000</td>\n",
       "      <td>299952.000000</td>\n",
       "      <td>299952.000000</td>\n",
       "      <td>299952.000000</td>\n",
       "      <td>299952.000000</td>\n",
       "    </tr>\n",
       "    <tr>\n",
       "      <th>mean</th>\n",
       "      <td>733.422464</td>\n",
       "      <td>20901.148837</td>\n",
       "      <td>0.335120</td>\n",
       "      <td>0.664880</td>\n",
       "      <td>0.269683</td>\n",
       "      <td>0.053192</td>\n",
       "      <td>0.077256</td>\n",
       "      <td>0.143223</td>\n",
       "      <td>0.030041</td>\n",
       "      <td>0.000203</td>\n",
       "      <td>...</td>\n",
       "      <td>0.142606</td>\n",
       "      <td>0.164880</td>\n",
       "      <td>0.196841</td>\n",
       "      <td>0.311673</td>\n",
       "      <td>0.688327</td>\n",
       "      <td>0.011025</td>\n",
       "      <td>0.254771</td>\n",
       "      <td>0.240218</td>\n",
       "      <td>0.218558</td>\n",
       "      <td>0.275427</td>\n",
       "    </tr>\n",
       "    <tr>\n",
       "      <th>std</th>\n",
       "      <td>431.621884</td>\n",
       "      <td>22701.023616</td>\n",
       "      <td>0.472033</td>\n",
       "      <td>0.472033</td>\n",
       "      <td>0.443796</td>\n",
       "      <td>0.224416</td>\n",
       "      <td>0.266997</td>\n",
       "      <td>0.350301</td>\n",
       "      <td>0.170702</td>\n",
       "      <td>0.014259</td>\n",
       "      <td>...</td>\n",
       "      <td>0.349671</td>\n",
       "      <td>0.371073</td>\n",
       "      <td>0.397612</td>\n",
       "      <td>0.463178</td>\n",
       "      <td>0.463178</td>\n",
       "      <td>0.104420</td>\n",
       "      <td>0.435733</td>\n",
       "      <td>0.427217</td>\n",
       "      <td>0.413269</td>\n",
       "      <td>0.446730</td>\n",
       "    </tr>\n",
       "    <tr>\n",
       "      <th>min</th>\n",
       "      <td>50.000000</td>\n",
       "      <td>1105.000000</td>\n",
       "      <td>0.000000</td>\n",
       "      <td>0.000000</td>\n",
       "      <td>0.000000</td>\n",
       "      <td>0.000000</td>\n",
       "      <td>0.000000</td>\n",
       "      <td>0.000000</td>\n",
       "      <td>0.000000</td>\n",
       "      <td>0.000000</td>\n",
       "      <td>...</td>\n",
       "      <td>0.000000</td>\n",
       "      <td>0.000000</td>\n",
       "      <td>0.000000</td>\n",
       "      <td>0.000000</td>\n",
       "      <td>0.000000</td>\n",
       "      <td>0.000000</td>\n",
       "      <td>0.000000</td>\n",
       "      <td>0.000000</td>\n",
       "      <td>0.000000</td>\n",
       "      <td>0.000000</td>\n",
       "    </tr>\n",
       "    <tr>\n",
       "      <th>25%</th>\n",
       "      <td>410.000000</td>\n",
       "      <td>4784.000000</td>\n",
       "      <td>0.000000</td>\n",
       "      <td>0.000000</td>\n",
       "      <td>0.000000</td>\n",
       "      <td>0.000000</td>\n",
       "      <td>0.000000</td>\n",
       "      <td>0.000000</td>\n",
       "      <td>0.000000</td>\n",
       "      <td>0.000000</td>\n",
       "      <td>...</td>\n",
       "      <td>0.000000</td>\n",
       "      <td>0.000000</td>\n",
       "      <td>0.000000</td>\n",
       "      <td>0.000000</td>\n",
       "      <td>0.000000</td>\n",
       "      <td>0.000000</td>\n",
       "      <td>0.000000</td>\n",
       "      <td>0.000000</td>\n",
       "      <td>0.000000</td>\n",
       "      <td>0.000000</td>\n",
       "    </tr>\n",
       "    <tr>\n",
       "      <th>50%</th>\n",
       "      <td>675.000000</td>\n",
       "      <td>7425.000000</td>\n",
       "      <td>0.000000</td>\n",
       "      <td>1.000000</td>\n",
       "      <td>0.000000</td>\n",
       "      <td>0.000000</td>\n",
       "      <td>0.000000</td>\n",
       "      <td>0.000000</td>\n",
       "      <td>0.000000</td>\n",
       "      <td>0.000000</td>\n",
       "      <td>...</td>\n",
       "      <td>0.000000</td>\n",
       "      <td>0.000000</td>\n",
       "      <td>0.000000</td>\n",
       "      <td>0.000000</td>\n",
       "      <td>1.000000</td>\n",
       "      <td>0.000000</td>\n",
       "      <td>0.000000</td>\n",
       "      <td>0.000000</td>\n",
       "      <td>0.000000</td>\n",
       "      <td>0.000000</td>\n",
       "    </tr>\n",
       "    <tr>\n",
       "      <th>75%</th>\n",
       "      <td>970.000000</td>\n",
       "      <td>42521.000000</td>\n",
       "      <td>1.000000</td>\n",
       "      <td>1.000000</td>\n",
       "      <td>1.000000</td>\n",
       "      <td>0.000000</td>\n",
       "      <td>0.000000</td>\n",
       "      <td>0.000000</td>\n",
       "      <td>0.000000</td>\n",
       "      <td>0.000000</td>\n",
       "      <td>...</td>\n",
       "      <td>0.000000</td>\n",
       "      <td>0.000000</td>\n",
       "      <td>0.000000</td>\n",
       "      <td>1.000000</td>\n",
       "      <td>1.000000</td>\n",
       "      <td>0.000000</td>\n",
       "      <td>1.000000</td>\n",
       "      <td>0.000000</td>\n",
       "      <td>0.000000</td>\n",
       "      <td>1.000000</td>\n",
       "    </tr>\n",
       "    <tr>\n",
       "      <th>max</th>\n",
       "      <td>2990.000000</td>\n",
       "      <td>123071.000000</td>\n",
       "      <td>1.000000</td>\n",
       "      <td>1.000000</td>\n",
       "      <td>1.000000</td>\n",
       "      <td>1.000000</td>\n",
       "      <td>1.000000</td>\n",
       "      <td>1.000000</td>\n",
       "      <td>1.000000</td>\n",
       "      <td>1.000000</td>\n",
       "      <td>...</td>\n",
       "      <td>1.000000</td>\n",
       "      <td>1.000000</td>\n",
       "      <td>1.000000</td>\n",
       "      <td>1.000000</td>\n",
       "      <td>1.000000</td>\n",
       "      <td>1.000000</td>\n",
       "      <td>1.000000</td>\n",
       "      <td>1.000000</td>\n",
       "      <td>1.000000</td>\n",
       "      <td>1.000000</td>\n",
       "    </tr>\n",
       "  </tbody>\n",
       "</table>\n",
       "<p>8 rows × 34 columns</p>\n",
       "</div>"
      ],
      "text/plain": [
       "       time_taken_mins          price    in_February       in_March  \\\n",
       "count    299952.000000  299952.000000  299952.000000  299952.000000   \n",
       "mean        733.422464   20901.148837       0.335120       0.664880   \n",
       "std         431.621884   22701.023616       0.472033       0.472033   \n",
       "min          50.000000    1105.000000       0.000000       0.000000   \n",
       "25%         410.000000    4784.000000       0.000000       0.000000   \n",
       "50%         675.000000    7425.000000       0.000000       1.000000   \n",
       "75%         970.000000   42521.000000       1.000000       1.000000   \n",
       "max        2990.000000  123071.000000       1.000000       1.000000   \n",
       "\n",
       "       airline_Air India  airline_AirAsia  airline_GO FIRST  airline_Indigo  \\\n",
       "count      299952.000000    299952.000000     299952.000000   299952.000000   \n",
       "mean            0.269683         0.053192          0.077256        0.143223   \n",
       "std             0.443796         0.224416          0.266997        0.350301   \n",
       "min             0.000000         0.000000          0.000000        0.000000   \n",
       "25%             0.000000         0.000000          0.000000        0.000000   \n",
       "50%             0.000000         0.000000          0.000000        0.000000   \n",
       "75%             1.000000         0.000000          0.000000        0.000000   \n",
       "max             1.000000         1.000000          1.000000        1.000000   \n",
       "\n",
       "       airline_SpiceJet  airline_StarAir  ...   to_Hyderabad     to_Kolkata  \\\n",
       "count     299952.000000    299952.000000  ...  299952.000000  299952.000000   \n",
       "mean           0.030041         0.000203  ...       0.142606       0.164880   \n",
       "std            0.170702         0.014259  ...       0.349671       0.371073   \n",
       "min            0.000000         0.000000  ...       0.000000       0.000000   \n",
       "25%            0.000000         0.000000  ...       0.000000       0.000000   \n",
       "50%            0.000000         0.000000  ...       0.000000       0.000000   \n",
       "75%            0.000000         0.000000  ...       0.000000       0.000000   \n",
       "max            1.000000         1.000000  ...       1.000000       1.000000   \n",
       "\n",
       "           to_Mumbai  class_business  class_economy  dept_time_late night  \\\n",
       "count  299952.000000   299952.000000  299952.000000         299952.000000   \n",
       "mean        0.196841        0.311673       0.688327              0.011025   \n",
       "std         0.397612        0.463178       0.463178              0.104420   \n",
       "min         0.000000        0.000000       0.000000              0.000000   \n",
       "25%         0.000000        0.000000       0.000000              0.000000   \n",
       "50%         0.000000        0.000000       1.000000              0.000000   \n",
       "75%         0.000000        1.000000       1.000000              0.000000   \n",
       "max         1.000000        1.000000       1.000000              1.000000   \n",
       "\n",
       "       dept_time_early morning  dept_time_morning  dept_time_afternoon  \\\n",
       "count            299952.000000      299952.000000        299952.000000   \n",
       "mean                  0.254771           0.240218             0.218558   \n",
       "std                   0.435733           0.427217             0.413269   \n",
       "min                   0.000000           0.000000             0.000000   \n",
       "25%                   0.000000           0.000000             0.000000   \n",
       "50%                   0.000000           0.000000             0.000000   \n",
       "75%                   1.000000           0.000000             0.000000   \n",
       "max                   1.000000           1.000000             1.000000   \n",
       "\n",
       "       dept_time_night  \n",
       "count    299952.000000  \n",
       "mean          0.275427  \n",
       "std           0.446730  \n",
       "min           0.000000  \n",
       "25%           0.000000  \n",
       "50%           0.000000  \n",
       "75%           1.000000  \n",
       "max           1.000000  \n",
       "\n",
       "[8 rows x 34 columns]"
      ]
     },
     "execution_count": 64,
     "metadata": {},
     "output_type": "execute_result"
    }
   ],
   "source": [
    "df.describe()"
   ]
  },
  {
   "cell_type": "markdown",
   "id": "659645ab",
   "metadata": {},
   "source": [
    "## Now that we have all of our dummy variables, let's start checking correlations:"
   ]
  },
  {
   "cell_type": "code",
   "execution_count": 65,
   "id": "65df75f7",
   "metadata": {
    "scrolled": false
   },
   "outputs": [
    {
     "data": {
      "text/plain": [
       "price                      1.000000\n",
       "class_business             0.937842\n",
       "airline_Vistara            0.360539\n",
       "time_taken_mins            0.204003\n",
       "stop_1-stop                0.200066\n",
       "in_February                0.092159\n",
       "airline_Air India          0.069756\n",
       "dept_time_night            0.034014\n",
       "to_Kolkata                 0.021256\n",
       "from_Chennai               0.018551\n",
       "to_Chennai                 0.018278\n",
       "from_Kolkata               0.015914\n",
       "from_Mumbai                0.013829\n",
       "to_Bangalore               0.013515\n",
       "dept_time_morning          0.013413\n",
       "from_Bangalore             0.012163\n",
       "to_Mumbai                  0.010640\n",
       "dept_time_early morning   -0.001476\n",
       "to_Hyderabad              -0.008815\n",
       "airline_Trujet            -0.009094\n",
       "airline_StarAir           -0.010032\n",
       "from_Hyderabad            -0.013427\n",
       "dept_time_afternoon       -0.034346\n",
       "from_Delhi                -0.043457\n",
       "to_Delhi                  -0.051815\n",
       "dept_time_late night      -0.058304\n",
       "stop_2-stops              -0.064370\n",
       "in_March                  -0.092159\n",
       "airline_SpiceJet          -0.114131\n",
       "airline_AirAsia           -0.175525\n",
       "stop_non-stop             -0.187381\n",
       "airline_GO FIRST          -0.194368\n",
       "airline_Indigo            -0.280439\n",
       "class_economy             -0.937842\n",
       "Name: price, dtype: float64"
      ]
     },
     "execution_count": 65,
     "metadata": {},
     "output_type": "execute_result"
    }
   ],
   "source": [
    "corr = df.corr()['price']\n",
    "corr.sort_values(ascending=False)"
   ]
  },
  {
   "cell_type": "markdown",
   "id": "6347ea17",
   "metadata": {},
   "source": [
    "## Let's fit the first model with all of the predictors first: \n",
    "\n",
    "## Model 1"
   ]
  },
  {
   "cell_type": "code",
   "execution_count": 66,
   "id": "f125e26f",
   "metadata": {},
   "outputs": [],
   "source": [
    "y = df[\"price\"]\n",
    "X = df.drop(\"price\", axis=1)"
   ]
  },
  {
   "cell_type": "code",
   "execution_count": 67,
   "id": "4aee9525",
   "metadata": {
    "scrolled": true
   },
   "outputs": [
    {
     "name": "stdout",
     "output_type": "stream",
     "text": [
      "Training set R-squared score: 0.9112189200080091\n",
      "Test set R-squared score: 0.909360529476755\n"
     ]
    }
   ],
   "source": [
    "from sklearn.model_selection import train_test_split\n",
    "from sklearn.linear_model import LinearRegression\n",
    "\n",
    "X_train, X_test, y_train, y_test = train_test_split(X, y, test_size=0.2, random_state=42)\n",
    "\n",
    "model1 = LinearRegression().fit(X_train, y_train)\n",
    "\n",
    "print(\"Training set R-squared score:\", model1.score(X_train, y_train))\n",
    "\n",
    "print(\"Test set R-squared score:\", model1.score(X_test, y_test))"
   ]
  },
  {
   "cell_type": "code",
   "execution_count": 68,
   "id": "4aa71d56",
   "metadata": {},
   "outputs": [],
   "source": [
    "train_score = model1.score(X_train, y_train)\n",
    "test_score = model1.score(X_test, y_test)"
   ]
  },
  {
   "cell_type": "code",
   "execution_count": 69,
   "id": "8b6e368b",
   "metadata": {},
   "outputs": [
    {
     "name": "stdout",
     "output_type": "stream",
     "text": [
      "The model may be slightly overfitting.\n"
     ]
    }
   ],
   "source": [
    "score_diff = train_score - test_score\n",
    "\n",
    "if score_diff > 0.1:\n",
    "    print(\"The model is overfitting.\")\n",
    "elif 0 <= score_diff <= 0.1:\n",
    "    print(\"The model may be slightly overfitting.\")\n",
    "else:\n",
    "    print(\"The model is not overfitting.\")"
   ]
  },
  {
   "cell_type": "code",
   "execution_count": 70,
   "id": "aa37afa9",
   "metadata": {},
   "outputs": [
    {
     "data": {
      "text/plain": [
       "0.0018583905312540283"
      ]
     },
     "execution_count": 70,
     "metadata": {},
     "output_type": "execute_result"
    }
   ],
   "source": [
    "train_score - test_score"
   ]
  },
  {
   "cell_type": "markdown",
   "id": "c21b3708",
   "metadata": {},
   "source": [
    "## I can see that I'm having trouble with some overfit. This isn't surprising given that I used all columns as predictors. Let's try and remove some of the columns with the lowest correlations to price:"
   ]
  },
  {
   "cell_type": "markdown",
   "id": "b3381be4",
   "metadata": {},
   "source": [
    "## For this model, we'll keep only those columns with an absolute correlation to price above .1:\n",
    "\n",
    "## Model 2"
   ]
  },
  {
   "cell_type": "code",
   "execution_count": 71,
   "id": "31e9f06e",
   "metadata": {},
   "outputs": [],
   "source": [
    "X1 = X[['class_business', 'airline_Vistara', 'time_taken_mins', 'stop_1-stop', 'airline_SpiceJet', 'airline_AirAsia', 'stop_non-stop', 'airline_GO FIRST', 'airline_Indigo', 'class_economy']]"
   ]
  },
  {
   "cell_type": "code",
   "execution_count": 72,
   "id": "22698167",
   "metadata": {},
   "outputs": [
    {
     "name": "stdout",
     "output_type": "stream",
     "text": [
      "Training set R-squared score: 0.901593141439151\n",
      "Test set R-squared score: 0.9002629316225305\n"
     ]
    }
   ],
   "source": [
    "X_train, X_test, y_train, y_test = train_test_split(X1, y, test_size=0.2, random_state=42)\n",
    "\n",
    "model2 = LinearRegression().fit(X_train, y_train)\n",
    "\n",
    "print(\"Training set R-squared score:\", model2.score(X_train, y_train))\n",
    "\n",
    "print(\"Test set R-squared score:\", model2.score(X_test, y_test))"
   ]
  },
  {
   "cell_type": "code",
   "execution_count": 73,
   "id": "b92fec42",
   "metadata": {},
   "outputs": [],
   "source": [
    "train_score = model2.score(X_train, y_train)\n",
    "test_score = model2.score(X_test, y_test)"
   ]
  },
  {
   "cell_type": "code",
   "execution_count": 74,
   "id": "5ac0190a",
   "metadata": {},
   "outputs": [
    {
     "name": "stdout",
     "output_type": "stream",
     "text": [
      "The model may be slightly overfitting.\n"
     ]
    }
   ],
   "source": [
    "score_diff = train_score - test_score\n",
    "\n",
    "if score_diff > 0.1:\n",
    "    print(\"The model is overfitting.\")\n",
    "elif 0 <= score_diff <= 0.1:\n",
    "    print(\"The model may be slightly overfitting.\")\n",
    "else:\n",
    "    print(\"The model is not overfitting.\")"
   ]
  },
  {
   "cell_type": "code",
   "execution_count": 75,
   "id": "d459e629",
   "metadata": {},
   "outputs": [
    {
     "data": {
      "text/plain": [
       "0.0013302098166205756"
      ]
     },
     "execution_count": 75,
     "metadata": {},
     "output_type": "execute_result"
    }
   ],
   "source": [
    "train_score - test_score"
   ]
  },
  {
   "cell_type": "markdown",
   "id": "4bfbd3f9",
   "metadata": {},
   "source": [
    "## After removing a lot of columns, we still have strong accuracy in the model, but I'm still seeing the slightest bit of overfit - which is not bad - but I'd like to see if I can completely eliminate it first before moving on.\n",
    "\n",
    "## Let's try a new model with predictors having an absolute correlation higher than .2:\n",
    "\n",
    "## Model 3"
   ]
  },
  {
   "cell_type": "code",
   "execution_count": 76,
   "id": "ed3bf20d",
   "metadata": {},
   "outputs": [],
   "source": [
    "X2 = X[['class_business', 'airline_Vistara', 'time_taken_mins', 'stop_1-stop', 'airline_Indigo', 'class_economy']]"
   ]
  },
  {
   "cell_type": "code",
   "execution_count": 77,
   "id": "7e533f2c",
   "metadata": {},
   "outputs": [
    {
     "name": "stdout",
     "output_type": "stream",
     "text": [
      "Training set R-squared score: 0.8954296553487908\n",
      "Test set R-squared score: 0.8942163514440682\n"
     ]
    }
   ],
   "source": [
    "X_train, X_test, y_train, y_test = train_test_split(X2, y, test_size=0.2, random_state=42)\n",
    "\n",
    "model3 = LinearRegression().fit(X_train, y_train)\n",
    "\n",
    "print(\"Training set R-squared score:\", model3.score(X_train, y_train))\n",
    "\n",
    "print(\"Test set R-squared score:\", model3.score(X_test, y_test))"
   ]
  },
  {
   "cell_type": "code",
   "execution_count": 78,
   "id": "a8be407d",
   "metadata": {},
   "outputs": [],
   "source": [
    "train_score = model3.score(X_train, y_train)\n",
    "test_score = model3.score(X_test, y_test)"
   ]
  },
  {
   "cell_type": "code",
   "execution_count": 79,
   "id": "8f606d2a",
   "metadata": {},
   "outputs": [
    {
     "name": "stdout",
     "output_type": "stream",
     "text": [
      "The model may be slightly overfitting.\n"
     ]
    }
   ],
   "source": [
    "score_diff = train_score - test_score\n",
    "\n",
    "if score_diff > 0.1:\n",
    "    print(\"The model is overfitting.\")\n",
    "elif 0 <= score_diff <= 0.1:\n",
    "    print(\"The model may be slightly overfitting.\")\n",
    "else:\n",
    "    print(\"The model is not overfitting.\")"
   ]
  },
  {
   "cell_type": "code",
   "execution_count": 80,
   "id": "ebe6620d",
   "metadata": {},
   "outputs": [
    {
     "data": {
      "text/plain": [
       "0.001213303904722629"
      ]
     },
     "execution_count": 80,
     "metadata": {},
     "output_type": "execute_result"
    }
   ],
   "source": [
    "train_score - test_score"
   ]
  },
  {
   "cell_type": "markdown",
   "id": "786a0185",
   "metadata": {},
   "source": [
    "## I'm going to try going even simpler:\n",
    "\n",
    "## Model 4"
   ]
  },
  {
   "cell_type": "code",
   "execution_count": 81,
   "id": "63a46e71",
   "metadata": {
    "scrolled": false
   },
   "outputs": [
    {
     "data": {
      "text/plain": [
       "class_business             1.000000\n",
       "airline_Vistara            0.301848\n",
       "time_taken_mins            0.138489\n",
       "airline_Air India          0.124660\n",
       "stop_1-stop                0.119814\n",
       "dept_time_night            0.044295\n",
       "from_Mumbai                0.016501\n",
       "in_February                0.013642\n",
       "to_Chennai                 0.012156\n",
       "to_Mumbai                  0.010660\n",
       "from_Chennai               0.010033\n",
       "to_Hyderabad               0.007064\n",
       "to_Bangalore               0.005126\n",
       "from_Bangalore             0.004688\n",
       "from_Hyderabad             0.002840\n",
       "dept_time_early morning    0.000913\n",
       "dept_time_morning         -0.002987\n",
       "airline_Trujet            -0.007868\n",
       "airline_StarAir           -0.009597\n",
       "to_Kolkata                -0.012727\n",
       "in_March                  -0.013642\n",
       "from_Delhi                -0.014247\n",
       "from_Kolkata              -0.019359\n",
       "to_Delhi                  -0.020522\n",
       "dept_time_afternoon       -0.032280\n",
       "dept_time_late night      -0.053332\n",
       "stop_non-stop             -0.068881\n",
       "stop_2-stops              -0.106977\n",
       "airline_SpiceJet          -0.118423\n",
       "airline_AirAsia           -0.159494\n",
       "airline_GO FIRST          -0.194705\n",
       "airline_Indigo            -0.275122\n",
       "class_economy             -1.000000\n",
       "Name: class_business, dtype: float64"
      ]
     },
     "execution_count": 81,
     "metadata": {},
     "output_type": "execute_result"
    }
   ],
   "source": [
    "corr = X.corr()['class_business']\n",
    "corr.sort_values(ascending=False)"
   ]
  },
  {
   "cell_type": "markdown",
   "id": "45ee89f6",
   "metadata": {},
   "source": [
    "### 'class_business' and 'class_economy' have perfect multicollinearity at -1.0, so I'll remove one:"
   ]
  },
  {
   "cell_type": "code",
   "execution_count": 82,
   "id": "cd23adb0",
   "metadata": {},
   "outputs": [],
   "source": [
    "X3 = X[['class_business', 'time_taken_mins']]"
   ]
  },
  {
   "cell_type": "code",
   "execution_count": 83,
   "id": "24cedc00",
   "metadata": {},
   "outputs": [
    {
     "name": "stdout",
     "output_type": "stream",
     "text": [
      "Training set R-squared score: 0.885551802538876\n",
      "Test set R-squared score: 0.8835191636894886\n"
     ]
    }
   ],
   "source": [
    "X_train, X_test, y_train, y_test = train_test_split(X3, y, test_size=0.2, random_state=42)\n",
    "\n",
    "model4 = LinearRegression().fit(X_train, y_train)\n",
    "\n",
    "print(\"Training set R-squared score:\", model4.score(X_train, y_train))\n",
    "\n",
    "print(\"Test set R-squared score:\", model4.score(X_test, y_test))"
   ]
  },
  {
   "cell_type": "code",
   "execution_count": 84,
   "id": "4d3e5970",
   "metadata": {},
   "outputs": [],
   "source": [
    "train_score = model4.score(X_train, y_train)\n",
    "test_score = model4.score(X_test, y_test)"
   ]
  },
  {
   "cell_type": "code",
   "execution_count": 85,
   "id": "3ad7e9ae",
   "metadata": {},
   "outputs": [
    {
     "name": "stdout",
     "output_type": "stream",
     "text": [
      "The model may be slightly overfitting.\n"
     ]
    }
   ],
   "source": [
    "score_diff = train_score - test_score\n",
    "\n",
    "if score_diff > 0.1:\n",
    "    print(\"The model is overfitting.\")\n",
    "elif 0 <= score_diff <= 0.1:\n",
    "    print(\"The model may be slightly overfitting.\")\n",
    "else:\n",
    "    print(\"The model is not overfitting.\")"
   ]
  },
  {
   "cell_type": "code",
   "execution_count": 86,
   "id": "a6aa12d4",
   "metadata": {
    "scrolled": true
   },
   "outputs": [
    {
     "data": {
      "text/plain": [
       "0.002032638849387425"
      ]
     },
     "execution_count": 86,
     "metadata": {},
     "output_type": "execute_result"
    }
   ],
   "source": [
    "train_score - test_score"
   ]
  },
  {
   "cell_type": "markdown",
   "id": "85e48122",
   "metadata": {},
   "source": [
    "## Another try:\n",
    "\n",
    "## Model 5"
   ]
  },
  {
   "cell_type": "code",
   "execution_count": 87,
   "id": "ac25be53",
   "metadata": {},
   "outputs": [],
   "source": [
    "X4 = X[['class_business', 'class_economy', 'stop_non-stop', 'time_taken_mins', 'stop_1-stop', 'stop_2-stops']]"
   ]
  },
  {
   "cell_type": "code",
   "execution_count": 88,
   "id": "3c7d560b",
   "metadata": {},
   "outputs": [
    {
     "name": "stdout",
     "output_type": "stream",
     "text": [
      "Training set R-squared score: 0.8957947249400068\n",
      "Test set R-squared score: 0.8942399918707101\n"
     ]
    }
   ],
   "source": [
    "X_train, X_test, y_train, y_test = train_test_split(X4, y, test_size=0.2, random_state=42)\n",
    "\n",
    "model5 = LinearRegression().fit(X_train, y_train)\n",
    "\n",
    "print(\"Training set R-squared score:\", model5.score(X_train, y_train))\n",
    "\n",
    "print(\"Test set R-squared score:\", model5.score(X_test, y_test))"
   ]
  },
  {
   "cell_type": "code",
   "execution_count": 89,
   "id": "0ab5308b",
   "metadata": {},
   "outputs": [],
   "source": [
    "train_score = model5.score(X_train, y_train)\n",
    "test_score = model5.score(X_test, y_test)"
   ]
  },
  {
   "cell_type": "code",
   "execution_count": 90,
   "id": "0eda3e0d",
   "metadata": {},
   "outputs": [
    {
     "name": "stdout",
     "output_type": "stream",
     "text": [
      "The model may be slightly overfitting.\n"
     ]
    }
   ],
   "source": [
    "score_diff = train_score - test_score\n",
    "\n",
    "if score_diff > 0.1:\n",
    "    print(\"The model is overfitting.\")\n",
    "elif 0 <= score_diff <= 0.1:\n",
    "    print(\"The model may be slightly overfitting.\")\n",
    "else:\n",
    "    print(\"The model is not overfitting.\")"
   ]
  },
  {
   "cell_type": "code",
   "execution_count": 91,
   "id": "20264a34",
   "metadata": {},
   "outputs": [
    {
     "data": {
      "text/plain": [
       "0.0015547330692966543"
      ]
     },
     "execution_count": 91,
     "metadata": {},
     "output_type": "execute_result"
    }
   ],
   "source": [
    "train_score - test_score"
   ]
  },
  {
   "cell_type": "markdown",
   "id": "b1e21ab1",
   "metadata": {},
   "source": [
    "## Last one:\n",
    "\n",
    "## Model 6"
   ]
  },
  {
   "cell_type": "code",
   "execution_count": 92,
   "id": "b6d7da2f",
   "metadata": {},
   "outputs": [],
   "source": [
    "X5 = X[['class_business', 'class_economy']]"
   ]
  },
  {
   "cell_type": "code",
   "execution_count": 93,
   "id": "9020b60b",
   "metadata": {},
   "outputs": [
    {
     "name": "stdout",
     "output_type": "stream",
     "text": [
      "Training set R-squared score: 0.8800577915985761\n",
      "Test set R-squared score: 0.8774878060874978\n"
     ]
    }
   ],
   "source": [
    "X_train, X_test, y_train, y_test = train_test_split(X5, y, test_size=0.2, random_state=42)\n",
    "\n",
    "model6 = LinearRegression().fit(X_train, y_train)\n",
    "\n",
    "print(\"Training set R-squared score:\", model6.score(X_train, y_train))\n",
    "\n",
    "print(\"Test set R-squared score:\", model6.score(X_test, y_test))"
   ]
  },
  {
   "cell_type": "code",
   "execution_count": 94,
   "id": "aeb8d534",
   "metadata": {},
   "outputs": [],
   "source": [
    "train_score = model6.score(X_train, y_train)\n",
    "test_score = model6.score(X_test, y_test)"
   ]
  },
  {
   "cell_type": "code",
   "execution_count": 95,
   "id": "1df5e5c4",
   "metadata": {},
   "outputs": [
    {
     "name": "stdout",
     "output_type": "stream",
     "text": [
      "The model may be slightly overfitting.\n"
     ]
    }
   ],
   "source": [
    "score_diff = train_score - test_score\n",
    "\n",
    "if score_diff > 0.1:\n",
    "    print(\"The model is overfitting.\")\n",
    "elif 0 <= score_diff <= 0.1:\n",
    "    print(\"The model may be slightly overfitting.\")\n",
    "else:\n",
    "    print(\"The model is not overfitting.\")"
   ]
  },
  {
   "cell_type": "code",
   "execution_count": 96,
   "id": "f3fe4137",
   "metadata": {},
   "outputs": [
    {
     "data": {
      "text/plain": [
       "0.002569985511078343"
      ]
     },
     "execution_count": 96,
     "metadata": {},
     "output_type": "execute_result"
    }
   ],
   "source": [
    "train_score - test_score"
   ]
  },
  {
   "cell_type": "markdown",
   "id": "0408271e",
   "metadata": {},
   "source": [
    "## After evaluating all the models, I'm going to choose Model 4. This model only requires 2 predictors and still has high accuracy with very little change in overfit."
   ]
  },
  {
   "cell_type": "code",
   "execution_count": 97,
   "id": "1b6299d0",
   "metadata": {
    "scrolled": true
   },
   "outputs": [
    {
     "data": {
      "text/html": [
       "<div>\n",
       "<style scoped>\n",
       "    .dataframe tbody tr th:only-of-type {\n",
       "        vertical-align: middle;\n",
       "    }\n",
       "\n",
       "    .dataframe tbody tr th {\n",
       "        vertical-align: top;\n",
       "    }\n",
       "\n",
       "    .dataframe thead th {\n",
       "        text-align: right;\n",
       "    }\n",
       "</style>\n",
       "<table border=\"1\" class=\"dataframe\">\n",
       "  <thead>\n",
       "    <tr style=\"text-align: right;\">\n",
       "      <th></th>\n",
       "      <th>time_taken_mins</th>\n",
       "      <th>price</th>\n",
       "      <th>in_February</th>\n",
       "      <th>in_March</th>\n",
       "      <th>airline_Air India</th>\n",
       "      <th>airline_AirAsia</th>\n",
       "      <th>airline_GO FIRST</th>\n",
       "      <th>airline_Indigo</th>\n",
       "      <th>airline_SpiceJet</th>\n",
       "      <th>airline_StarAir</th>\n",
       "      <th>...</th>\n",
       "      <th>to_Hyderabad</th>\n",
       "      <th>to_Kolkata</th>\n",
       "      <th>to_Mumbai</th>\n",
       "      <th>class_business</th>\n",
       "      <th>class_economy</th>\n",
       "      <th>dept_time_late night</th>\n",
       "      <th>dept_time_early morning</th>\n",
       "      <th>dept_time_morning</th>\n",
       "      <th>dept_time_afternoon</th>\n",
       "      <th>dept_time_night</th>\n",
       "    </tr>\n",
       "  </thead>\n",
       "  <tbody>\n",
       "    <tr>\n",
       "      <th>count</th>\n",
       "      <td>299952.000000</td>\n",
       "      <td>299952.000000</td>\n",
       "      <td>299952.000000</td>\n",
       "      <td>299952.000000</td>\n",
       "      <td>299952.000000</td>\n",
       "      <td>299952.000000</td>\n",
       "      <td>299952.000000</td>\n",
       "      <td>299952.000000</td>\n",
       "      <td>299952.000000</td>\n",
       "      <td>299952.000000</td>\n",
       "      <td>...</td>\n",
       "      <td>299952.000000</td>\n",
       "      <td>299952.000000</td>\n",
       "      <td>299952.000000</td>\n",
       "      <td>299952.000000</td>\n",
       "      <td>299952.000000</td>\n",
       "      <td>299952.000000</td>\n",
       "      <td>299952.000000</td>\n",
       "      <td>299952.000000</td>\n",
       "      <td>299952.000000</td>\n",
       "      <td>299952.000000</td>\n",
       "    </tr>\n",
       "    <tr>\n",
       "      <th>mean</th>\n",
       "      <td>733.422464</td>\n",
       "      <td>20901.148837</td>\n",
       "      <td>0.335120</td>\n",
       "      <td>0.664880</td>\n",
       "      <td>0.269683</td>\n",
       "      <td>0.053192</td>\n",
       "      <td>0.077256</td>\n",
       "      <td>0.143223</td>\n",
       "      <td>0.030041</td>\n",
       "      <td>0.000203</td>\n",
       "      <td>...</td>\n",
       "      <td>0.142606</td>\n",
       "      <td>0.164880</td>\n",
       "      <td>0.196841</td>\n",
       "      <td>0.311673</td>\n",
       "      <td>0.688327</td>\n",
       "      <td>0.011025</td>\n",
       "      <td>0.254771</td>\n",
       "      <td>0.240218</td>\n",
       "      <td>0.218558</td>\n",
       "      <td>0.275427</td>\n",
       "    </tr>\n",
       "    <tr>\n",
       "      <th>std</th>\n",
       "      <td>431.621884</td>\n",
       "      <td>22701.023616</td>\n",
       "      <td>0.472033</td>\n",
       "      <td>0.472033</td>\n",
       "      <td>0.443796</td>\n",
       "      <td>0.224416</td>\n",
       "      <td>0.266997</td>\n",
       "      <td>0.350301</td>\n",
       "      <td>0.170702</td>\n",
       "      <td>0.014259</td>\n",
       "      <td>...</td>\n",
       "      <td>0.349671</td>\n",
       "      <td>0.371073</td>\n",
       "      <td>0.397612</td>\n",
       "      <td>0.463178</td>\n",
       "      <td>0.463178</td>\n",
       "      <td>0.104420</td>\n",
       "      <td>0.435733</td>\n",
       "      <td>0.427217</td>\n",
       "      <td>0.413269</td>\n",
       "      <td>0.446730</td>\n",
       "    </tr>\n",
       "    <tr>\n",
       "      <th>min</th>\n",
       "      <td>50.000000</td>\n",
       "      <td>1105.000000</td>\n",
       "      <td>0.000000</td>\n",
       "      <td>0.000000</td>\n",
       "      <td>0.000000</td>\n",
       "      <td>0.000000</td>\n",
       "      <td>0.000000</td>\n",
       "      <td>0.000000</td>\n",
       "      <td>0.000000</td>\n",
       "      <td>0.000000</td>\n",
       "      <td>...</td>\n",
       "      <td>0.000000</td>\n",
       "      <td>0.000000</td>\n",
       "      <td>0.000000</td>\n",
       "      <td>0.000000</td>\n",
       "      <td>0.000000</td>\n",
       "      <td>0.000000</td>\n",
       "      <td>0.000000</td>\n",
       "      <td>0.000000</td>\n",
       "      <td>0.000000</td>\n",
       "      <td>0.000000</td>\n",
       "    </tr>\n",
       "    <tr>\n",
       "      <th>25%</th>\n",
       "      <td>410.000000</td>\n",
       "      <td>4784.000000</td>\n",
       "      <td>0.000000</td>\n",
       "      <td>0.000000</td>\n",
       "      <td>0.000000</td>\n",
       "      <td>0.000000</td>\n",
       "      <td>0.000000</td>\n",
       "      <td>0.000000</td>\n",
       "      <td>0.000000</td>\n",
       "      <td>0.000000</td>\n",
       "      <td>...</td>\n",
       "      <td>0.000000</td>\n",
       "      <td>0.000000</td>\n",
       "      <td>0.000000</td>\n",
       "      <td>0.000000</td>\n",
       "      <td>0.000000</td>\n",
       "      <td>0.000000</td>\n",
       "      <td>0.000000</td>\n",
       "      <td>0.000000</td>\n",
       "      <td>0.000000</td>\n",
       "      <td>0.000000</td>\n",
       "    </tr>\n",
       "    <tr>\n",
       "      <th>50%</th>\n",
       "      <td>675.000000</td>\n",
       "      <td>7425.000000</td>\n",
       "      <td>0.000000</td>\n",
       "      <td>1.000000</td>\n",
       "      <td>0.000000</td>\n",
       "      <td>0.000000</td>\n",
       "      <td>0.000000</td>\n",
       "      <td>0.000000</td>\n",
       "      <td>0.000000</td>\n",
       "      <td>0.000000</td>\n",
       "      <td>...</td>\n",
       "      <td>0.000000</td>\n",
       "      <td>0.000000</td>\n",
       "      <td>0.000000</td>\n",
       "      <td>0.000000</td>\n",
       "      <td>1.000000</td>\n",
       "      <td>0.000000</td>\n",
       "      <td>0.000000</td>\n",
       "      <td>0.000000</td>\n",
       "      <td>0.000000</td>\n",
       "      <td>0.000000</td>\n",
       "    </tr>\n",
       "    <tr>\n",
       "      <th>75%</th>\n",
       "      <td>970.000000</td>\n",
       "      <td>42521.000000</td>\n",
       "      <td>1.000000</td>\n",
       "      <td>1.000000</td>\n",
       "      <td>1.000000</td>\n",
       "      <td>0.000000</td>\n",
       "      <td>0.000000</td>\n",
       "      <td>0.000000</td>\n",
       "      <td>0.000000</td>\n",
       "      <td>0.000000</td>\n",
       "      <td>...</td>\n",
       "      <td>0.000000</td>\n",
       "      <td>0.000000</td>\n",
       "      <td>0.000000</td>\n",
       "      <td>1.000000</td>\n",
       "      <td>1.000000</td>\n",
       "      <td>0.000000</td>\n",
       "      <td>1.000000</td>\n",
       "      <td>0.000000</td>\n",
       "      <td>0.000000</td>\n",
       "      <td>1.000000</td>\n",
       "    </tr>\n",
       "    <tr>\n",
       "      <th>max</th>\n",
       "      <td>2990.000000</td>\n",
       "      <td>123071.000000</td>\n",
       "      <td>1.000000</td>\n",
       "      <td>1.000000</td>\n",
       "      <td>1.000000</td>\n",
       "      <td>1.000000</td>\n",
       "      <td>1.000000</td>\n",
       "      <td>1.000000</td>\n",
       "      <td>1.000000</td>\n",
       "      <td>1.000000</td>\n",
       "      <td>...</td>\n",
       "      <td>1.000000</td>\n",
       "      <td>1.000000</td>\n",
       "      <td>1.000000</td>\n",
       "      <td>1.000000</td>\n",
       "      <td>1.000000</td>\n",
       "      <td>1.000000</td>\n",
       "      <td>1.000000</td>\n",
       "      <td>1.000000</td>\n",
       "      <td>1.000000</td>\n",
       "      <td>1.000000</td>\n",
       "    </tr>\n",
       "  </tbody>\n",
       "</table>\n",
       "<p>8 rows × 34 columns</p>\n",
       "</div>"
      ],
      "text/plain": [
       "       time_taken_mins          price    in_February       in_March  \\\n",
       "count    299952.000000  299952.000000  299952.000000  299952.000000   \n",
       "mean        733.422464   20901.148837       0.335120       0.664880   \n",
       "std         431.621884   22701.023616       0.472033       0.472033   \n",
       "min          50.000000    1105.000000       0.000000       0.000000   \n",
       "25%         410.000000    4784.000000       0.000000       0.000000   \n",
       "50%         675.000000    7425.000000       0.000000       1.000000   \n",
       "75%         970.000000   42521.000000       1.000000       1.000000   \n",
       "max        2990.000000  123071.000000       1.000000       1.000000   \n",
       "\n",
       "       airline_Air India  airline_AirAsia  airline_GO FIRST  airline_Indigo  \\\n",
       "count      299952.000000    299952.000000     299952.000000   299952.000000   \n",
       "mean            0.269683         0.053192          0.077256        0.143223   \n",
       "std             0.443796         0.224416          0.266997        0.350301   \n",
       "min             0.000000         0.000000          0.000000        0.000000   \n",
       "25%             0.000000         0.000000          0.000000        0.000000   \n",
       "50%             0.000000         0.000000          0.000000        0.000000   \n",
       "75%             1.000000         0.000000          0.000000        0.000000   \n",
       "max             1.000000         1.000000          1.000000        1.000000   \n",
       "\n",
       "       airline_SpiceJet  airline_StarAir  ...   to_Hyderabad     to_Kolkata  \\\n",
       "count     299952.000000    299952.000000  ...  299952.000000  299952.000000   \n",
       "mean           0.030041         0.000203  ...       0.142606       0.164880   \n",
       "std            0.170702         0.014259  ...       0.349671       0.371073   \n",
       "min            0.000000         0.000000  ...       0.000000       0.000000   \n",
       "25%            0.000000         0.000000  ...       0.000000       0.000000   \n",
       "50%            0.000000         0.000000  ...       0.000000       0.000000   \n",
       "75%            0.000000         0.000000  ...       0.000000       0.000000   \n",
       "max            1.000000         1.000000  ...       1.000000       1.000000   \n",
       "\n",
       "           to_Mumbai  class_business  class_economy  dept_time_late night  \\\n",
       "count  299952.000000   299952.000000  299952.000000         299952.000000   \n",
       "mean        0.196841        0.311673       0.688327              0.011025   \n",
       "std         0.397612        0.463178       0.463178              0.104420   \n",
       "min         0.000000        0.000000       0.000000              0.000000   \n",
       "25%         0.000000        0.000000       0.000000              0.000000   \n",
       "50%         0.000000        0.000000       1.000000              0.000000   \n",
       "75%         0.000000        1.000000       1.000000              0.000000   \n",
       "max         1.000000        1.000000       1.000000              1.000000   \n",
       "\n",
       "       dept_time_early morning  dept_time_morning  dept_time_afternoon  \\\n",
       "count            299952.000000      299952.000000        299952.000000   \n",
       "mean                  0.254771           0.240218             0.218558   \n",
       "std                   0.435733           0.427217             0.413269   \n",
       "min                   0.000000           0.000000             0.000000   \n",
       "25%                   0.000000           0.000000             0.000000   \n",
       "50%                   0.000000           0.000000             0.000000   \n",
       "75%                   1.000000           0.000000             0.000000   \n",
       "max                   1.000000           1.000000             1.000000   \n",
       "\n",
       "       dept_time_night  \n",
       "count    299952.000000  \n",
       "mean          0.275427  \n",
       "std           0.446730  \n",
       "min           0.000000  \n",
       "25%           0.000000  \n",
       "50%           0.000000  \n",
       "75%           1.000000  \n",
       "max           1.000000  \n",
       "\n",
       "[8 rows x 34 columns]"
      ]
     },
     "execution_count": 97,
     "metadata": {},
     "output_type": "execute_result"
    }
   ],
   "source": [
    "df.describe()"
   ]
  },
  {
   "cell_type": "code",
   "execution_count": 98,
   "id": "d6b33f7d",
   "metadata": {},
   "outputs": [],
   "source": [
    "# X3 = X[['class_business', 'time_taken_mins']]"
   ]
  },
  {
   "cell_type": "code",
   "execution_count": 99,
   "id": "dae14276",
   "metadata": {},
   "outputs": [
    {
     "name": "stderr",
     "output_type": "stream",
     "text": [
      "D:\\Anaconda\\lib\\site-packages\\sklearn\\base.py:450: UserWarning: X does not have valid feature names, but LinearRegression was fitted with feature names\n",
      "  warnings.warn(\n"
     ]
    },
    {
     "data": {
      "text/plain": [
       "array([51984.86612551])"
      ]
     },
     "execution_count": 99,
     "metadata": {},
     "output_type": "execute_result"
    }
   ],
   "source": [
    "new_flight_one = np.array([[1.0, 675]])\n",
    "\n",
    "predicted_price1 = model4.predict(new_flight_one)\n",
    "\n",
    "predicted_price1"
   ]
  },
  {
   "cell_type": "code",
   "execution_count": 100,
   "id": "e9121e03",
   "metadata": {},
   "outputs": [
    {
     "name": "stderr",
     "output_type": "stream",
     "text": [
      "D:\\Anaconda\\lib\\site-packages\\sklearn\\base.py:450: UserWarning: X does not have valid feature names, but LinearRegression was fitted with feature names\n",
      "  warnings.warn(\n"
     ]
    },
    {
     "data": {
      "text/plain": [
       "array([6502.16851736])"
      ]
     },
     "execution_count": 100,
     "metadata": {},
     "output_type": "execute_result"
    }
   ],
   "source": [
    "new_flight_two = np.array([[0.0, 675]])\n",
    "\n",
    "predicted_price2 = model4.predict(new_flight_two)\n",
    "\n",
    "predicted_price2"
   ]
  },
  {
   "cell_type": "markdown",
   "id": "ff5c14d8",
   "metadata": {},
   "source": [
    "## We can see from this prediction that flights of equal length create varying prices based off class. The economy class is clearly a lot cheaper.\n",
    "\n",
    "## This model can be a good way to know how to price tickets based on the class of ticket and length of a flight.\n",
    "\n",
    "## Let's test more flights to confirm:"
   ]
  },
  {
   "cell_type": "code",
   "execution_count": 101,
   "id": "f1d80ceb",
   "metadata": {},
   "outputs": [
    {
     "name": "stderr",
     "output_type": "stream",
     "text": [
      "D:\\Anaconda\\lib\\site-packages\\sklearn\\base.py:450: UserWarning: X does not have valid feature names, but LinearRegression was fitted with feature names\n",
      "  warnings.warn(\n"
     ]
    },
    {
     "data": {
      "text/plain": [
       "array([55235.64281478])"
      ]
     },
     "execution_count": 101,
     "metadata": {},
     "output_type": "execute_result"
    }
   ],
   "source": [
    "new_flight_three = np.array([[1.0, 1500]])\n",
    "\n",
    "predicted_price3 = model4.predict(new_flight_three)\n",
    "\n",
    "predicted_price3"
   ]
  },
  {
   "cell_type": "code",
   "execution_count": 102,
   "id": "6e9015bf",
   "metadata": {},
   "outputs": [
    {
     "name": "stderr",
     "output_type": "stream",
     "text": [
      "D:\\Anaconda\\lib\\site-packages\\sklearn\\base.py:450: UserWarning: X does not have valid feature names, but LinearRegression was fitted with feature names\n",
      "  warnings.warn(\n"
     ]
    },
    {
     "data": {
      "text/plain": [
       "array([9752.94520663])"
      ]
     },
     "execution_count": 102,
     "metadata": {},
     "output_type": "execute_result"
    }
   ],
   "source": [
    "new_flight_four = np.array([[0, 1500]])\n",
    "\n",
    "predicted_price4 = model4.predict(new_flight_four)\n",
    "\n",
    "predicted_price4"
   ]
  },
  {
   "cell_type": "markdown",
   "id": "a0f0f11e",
   "metadata": {},
   "source": [
    "## For these flights, we increased the time_taken_mins to reflect increases in both classes of ticket while keeping a similar price ratio from business to economy."
   ]
  },
  {
   "cell_type": "markdown",
   "id": "e86ee63c",
   "metadata": {},
   "source": [
    "# Overall in this notebook:\n",
    "\n",
    "### - Cleaned dataset: Removed duplicates + null values and fixed errors in the 'stop' column values\n",
    "### - Performed feature engineering to convert departure time into 5 categories representing the time of day\n",
    "### - Exported the cleaned data to a CSV file in order to create visualizations in PowerBI\n",
    "### - Created dummy variables in order to fit a linear regression model\n",
    "### - Fit a Linear Regression model using 2 predictors of price\n",
    "### - Used the model to predict the price of flights based off class and total time taken in minutes."
   ]
  }
 ],
 "metadata": {
  "kernelspec": {
   "display_name": "Python 3 (ipykernel)",
   "language": "python",
   "name": "python3"
  },
  "language_info": {
   "codemirror_mode": {
    "name": "ipython",
    "version": 3
   },
   "file_extension": ".py",
   "mimetype": "text/x-python",
   "name": "python",
   "nbconvert_exporter": "python",
   "pygments_lexer": "ipython3",
   "version": "3.9.13"
  }
 },
 "nbformat": 4,
 "nbformat_minor": 5
}
